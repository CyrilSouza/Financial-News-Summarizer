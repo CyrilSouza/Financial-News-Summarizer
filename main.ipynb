{
 "cells": [
  {
   "cell_type": "code",
   "execution_count": 1,
   "metadata": {},
   "outputs": [],
   "source": [
    "\n",
    "from transformers import PegasusTokenizer, PegasusForConditionalGeneration\n",
    "from bs4 import BeautifulSoup\n",
    "import requests"
   ]
  },
  {
   "cell_type": "code",
   "execution_count": 2,
   "metadata": {},
   "outputs": [
    {
     "name": "stderr",
     "output_type": "stream",
     "text": [
      "Some weights of PegasusForConditionalGeneration were not initialized from the model checkpoint at human-centered-summarization/financial-summarization-pegasus and are newly initialized: ['model.decoder.embed_positions.weight', 'model.encoder.embed_positions.weight']\n",
      "You should probably TRAIN this model on a down-stream task to be able to use it for predictions and inference.\n"
     ]
    }
   ],
   "source": [
    "\n",
    "model_name = \"human-centered-summarization/financial-summarization-pegasus\"\n",
    "tokenizer = PegasusTokenizer.from_pretrained(model_name)\n",
    "model = PegasusForConditionalGeneration.from_pretrained(model_name)"
   ]
  },
  {
   "cell_type": "code",
   "execution_count": 3,
   "metadata": {},
   "outputs": [],
   "source": [
    "url = \"https://au.finance.yahoo.com/news/nab-bankers-save-aussie-from-devastating-25-million-scam-several-red-flags-024613144.html\"\n",
    "\n",
    "headers = {'User-Agent': 'Mozilla/5.0 (Windows NT 10.0; Win64; x64) AppleWebKit/537.36 (KHTML, like Gecko) Chrome/58.0.3029.110 Safari/537.3'}\n",
    "r = requests.get(url, headers=headers)\n",
    "soup = BeautifulSoup(r.text, 'html.parser')\n",
    "paragraphs = soup.find_all('p')"
   ]
  },
  {
   "cell_type": "code",
   "execution_count": 4,
   "metadata": {},
   "outputs": [
    {
     "data": {
      "text/plain": [
       "'A wealthy Aussie has narrowly avoided losing $25 million after “several red” flags went off indicating it was an investment scam.'"
      ]
     },
     "execution_count": 4,
     "metadata": {},
     "output_type": "execute_result"
    }
   ],
   "source": [
    "\n",
    "paragraphs[0].text"
   ]
  },
  {
   "cell_type": "code",
   "execution_count": 5,
   "metadata": {},
   "outputs": [],
   "source": [
    "text = [paragraph.text for paragraph in paragraphs]\n",
    "words = ' '.join(text).split(' ')[:400]\n",
    "ARTICLE = ' '.join(words)"
   ]
  },
  {
   "cell_type": "code",
   "execution_count": 6,
   "metadata": {},
   "outputs": [
    {
     "data": {
      "text/plain": [
       "\"A wealthy Aussie has narrowly avoided losing $25 million after “several red” flags went off indicating it was an investment scam. Daniel Smith* had received a phone call from what he believed was a reputable bank, offering him an attractive term-deposit rate. He decided to contact his current bank, NAB, to see if they could match the offer. While the proposed interest rate wasn’t extreme enough to raise alarm bells, the fact Daniel was looking to move $25 million in a single transaction was enough to make his banker suspicious. Have you fallen victim to a scam? Contact tamika.seeto@yahooinc.com to share your story The transaction was flagged with NAB’s private wealth banker, Amit, as well as an investment specialist with the bank. They were asked to investigate the supposed deposit rate and documents Daniel had received. “We went through the various pieces of material sent to the customer from the caller, only to discover several red flags,” Amit said. RELATED NAB customer reveals 7 words scammer utters in final moments as ploy caught on film: 'I knew' HSBC customer Sunni lost $50,000 to a scam. She can’t get any money back Scammed mum goes into $11k ‘panic’ as she answers daughter’s call These included an odd logo placement, the bank having a different Australian Business Number to that listed on its official website, grammatical errors throughout the documents, and a deposit rate offered to Daniel that was not listed online. The team concluded it was indeed an investment scam and called Daniel to stop him from proceeding with the offer. Get the latest Yahoo Finance news - follow us on Facebook, LinkedIn and Instagram. Aussies lose more money to investment scams than any other type of scam. Scamwatch received more than 8,000 reports in 2023. In total, Aussies lost more than $291 million to investment scams last year. A NAB banker also recently stopped a Tasmanian couple from losing $40,000 to an investment scam, which promised a 12 per cent return on their term deposit and a guaranteed payout if the firm went bust. ASIC says fraudsters will often pretend to be from a financial services company or bank offering low-risk investment products, such as government bonds or fixed-term loans. “Because scammers impersonate real investment providers in these scams, they can be convincing,” ASIC’s MoneySmart said. ASIC recommends watching out for fake comparison websites or enquiry forms, being wary of\""
      ]
     },
     "execution_count": 6,
     "metadata": {},
     "output_type": "execute_result"
    }
   ],
   "source": [
    "ARTICLE"
   ]
  },
  {
   "cell_type": "code",
   "execution_count": 7,
   "metadata": {},
   "outputs": [],
   "source": [
    "\n",
    "input_ids = tokenizer.encode(ARTICLE, return_tensors='pt')\n",
    "output = model.generate(input_ids, max_length=55, num_beams=5, early_stopping=True)\n",
    "summary = tokenizer.decode(output[0], skip_special_tokens=True)"
   ]
  },
  {
   "cell_type": "code",
   "execution_count": 8,
   "metadata": {},
   "outputs": [
    {
     "data": {
      "text/plain": [
       "'Banker stopped client from moving $25 million. Scamwatch received more than 8,000 reports in 2023'"
      ]
     },
     "execution_count": 8,
     "metadata": {},
     "output_type": "execute_result"
    }
   ],
   "source": [
    "\n",
    "summary"
   ]
  },
  {
   "cell_type": "code",
   "execution_count": 9,
   "metadata": {},
   "outputs": [],
   "source": [
    "\n",
    "monitored_tickers = ['GME', 'TSLA', 'BTC']"
   ]
  },
  {
   "cell_type": "code",
   "execution_count": 10,
   "metadata": {},
   "outputs": [],
   "source": [
    "def search_for_stock_news_urls(ticker):\n",
    "    search_url = \"https://www.google.com/search?q=yahoo+finance+{}&tbm=nws\".format(ticker)\n",
    "    r = requests.get(search_url)\n",
    "    soup = BeautifulSoup(r.text, 'html.parser')\n",
    "    atags = soup.find_all('a')\n",
    "    hrefs = [link['href'] for link in atags]\n",
    "    return hrefs"
   ]
  },
  {
   "cell_type": "code",
   "execution_count": 11,
   "metadata": {},
   "outputs": [
    {
     "data": {
      "text/plain": [
       "{'GME': ['/?sa=X&ved=0ahUKEwiq7Z3AkoaFAxVSe2wGHWlODbcQOwgC',\n",
       "  '/search?q=yahoo+finance+GME&sca_esv=0d7590debed7ac0b&ie=UTF-8&tbm=nws&gbv=1&sei=0ZH8ZerAMNL2seMP6Zy1uAs',\n",
       "  '/search?q=yahoo+finance+GME&sca_esv=0d7590debed7ac0b&ie=UTF-8&source=lnms&sa=X&ved=0ahUKEwiq7Z3AkoaFAxVSe2wGHWlODbcQ_AUIBSgA',\n",
       "  '/search?q=yahoo+finance+GME&sca_esv=0d7590debed7ac0b&ie=UTF-8&tbm=vid&source=lnms&sa=X&ved=0ahUKEwiq7Z3AkoaFAxVSe2wGHWlODbcQ_AUIBygC',\n",
       "  '/search?q=yahoo+finance+GME&sca_esv=0d7590debed7ac0b&ie=UTF-8&tbm=bks&source=lnms&sa=X&ved=0ahUKEwiq7Z3AkoaFAxVSe2wGHWlODbcQ_AUICCgD',\n",
       "  '/search?q=yahoo+finance+GME&sca_esv=0d7590debed7ac0b&ie=UTF-8&tbm=isch&source=lnms&sa=X&ved=0ahUKEwiq7Z3AkoaFAxVSe2wGHWlODbcQ_AUICSgE',\n",
       "  '/url?q=https://maps.google.com/maps%3Fq%3Dyahoo%2Bfinance%2BGME%26um%3D1%26ie%3DUTF-8%26ved%3D1t:200713%26ictx%3D111&opi=89978449&sa=U&ved=0ahUKEwiq7Z3AkoaFAxVSe2wGHWlODbcQiaAMCAooBQ&usg=AOvVaw0URNHJ1Pl3Fpiw5RNzhKp0',\n",
       "  '/url?q=/search%3Fq%3Dyahoo%2Bfinance%2BGME%26sca_esv%3D0d7590debed7ac0b%26ie%3DUTF-8%26tbm%3Dshop%26source%3Dlnms%26ved%3D1t:200713%26ictx%3D111&opi=89978449&sa=U&ved=0ahUKEwiq7Z3AkoaFAxVSe2wGHWlODbcQiaAMCAsoBg&usg=AOvVaw3c6PEaEep6vBeancXbdKi5',\n",
       "  '/advanced_search',\n",
       "  '/search?q=yahoo+finance+GME&sca_esv=0d7590debed7ac0b&ie=UTF-8&tbm=nws&source=lnt&tbs=qdr:h&sa=X&ved=0ahUKEwiq7Z3AkoaFAxVSe2wGHWlODbcQpwUIDQ',\n",
       "  '/search?q=yahoo+finance+GME&sca_esv=0d7590debed7ac0b&ie=UTF-8&tbm=nws&source=lnt&tbs=qdr:d&sa=X&ved=0ahUKEwiq7Z3AkoaFAxVSe2wGHWlODbcQpwUIDg',\n",
       "  '/search?q=yahoo+finance+GME&sca_esv=0d7590debed7ac0b&ie=UTF-8&tbm=nws&source=lnt&tbs=qdr:w&sa=X&ved=0ahUKEwiq7Z3AkoaFAxVSe2wGHWlODbcQpwUIDw',\n",
       "  '/search?q=yahoo+finance+GME&sca_esv=0d7590debed7ac0b&ie=UTF-8&tbm=nws&source=lnt&tbs=qdr:m&sa=X&ved=0ahUKEwiq7Z3AkoaFAxVSe2wGHWlODbcQpwUIEA',\n",
       "  '/search?q=yahoo+finance+GME&sca_esv=0d7590debed7ac0b&ie=UTF-8&tbm=nws&source=lnt&tbs=qdr:y&sa=X&ved=0ahUKEwiq7Z3AkoaFAxVSe2wGHWlODbcQpwUIEQ',\n",
       "  '/search?q=yahoo+finance+GME&sca_esv=0d7590debed7ac0b&ie=UTF-8&tbm=nws&source=lnt&tbs=ar:1&sa=X&ved=0ahUKEwiq7Z3AkoaFAxVSe2wGHWlODbcQpwUIEg',\n",
       "  '/search?q=yahoo+finance+GME&sca_esv=0d7590debed7ac0b&ie=UTF-8&tbm=nws&source=lnt&tbs=sbd:1&sa=X&ved=0ahUKEwiq7Z3AkoaFAxVSe2wGHWlODbcQpwUIFA',\n",
       "  '/url?q=https://finance.yahoo.com/news/gamestop-nyse-gme-misses-q3-211648468.html&sa=U&ved=2ahUKEwiq7Z3AkoaFAxVSe2wGHWlODbcQxfQBegQIARAC&usg=AOvVaw2av88PFK7O7TiKsEf6v2Ga',\n",
       "  '/url?q=https://finance.yahoo.com/news/gamestop-gme-true-worth-really-163851598.html&sa=U&ved=2ahUKEwiq7Z3AkoaFAxVSe2wGHWlODbcQxfQBegQICRAC&usg=AOvVaw0jgb38CpVdy_0h--WDCm6Z',\n",
       "  '/url?q=https://finance.yahoo.com/news/down-19-41-4-weeks-133506409.html&sa=U&ved=2ahUKEwiq7Z3AkoaFAxVSe2wGHWlODbcQxfQBegQIBRAC&usg=AOvVaw1dYVd6Mk2XxzX5xCojUqeq',\n",
       "  '/url?q=https://finance.yahoo.com/news/gamestop-gme-strong-industry-solid-134000154.html&sa=U&ved=2ahUKEwiq7Z3AkoaFAxVSe2wGHWlODbcQxfQBegQIAhAC&usg=AOvVaw2rUSL8IUB_O7YyHi_r87v8',\n",
       "  '/url?q=https://finance.yahoo.com/news/bull-day-gamestop-gme-120000551.html&sa=U&ved=2ahUKEwiq7Z3AkoaFAxVSe2wGHWlODbcQxfQBegQIAxAC&usg=AOvVaw2qaG1PHvc_0_rpI88MN1mz',\n",
       "  '/url?q=https://finance.yahoo.com/news/unveiling-gamestop-gme-value-really-155119864.html&sa=U&ved=2ahUKEwiq7Z3AkoaFAxVSe2wGHWlODbcQxfQBegQIBxAC&usg=AOvVaw1xbqZ8ZgnH2Oi1DjaJaXpH',\n",
       "  '/url?q=https://finance.yahoo.com/news/gamestop-corp-gme-reports-narrowed-224622965.html&sa=U&ved=2ahUKEwiq7Z3AkoaFAxVSe2wGHWlODbcQxfQBegQIBBAC&usg=AOvVaw1NRU5ay7qnHn7fRuseRrSo',\n",
       "  '/url?q=https://finance.yahoo.com/news/3-sorry-gaming-stocks-sell-171540757.html&sa=U&ved=2ahUKEwiq7Z3AkoaFAxVSe2wGHWlODbcQxfQBegQIBhAC&usg=AOvVaw06MaNaz5nKJJpykPassbNb',\n",
       "  '/url?q=https://finance.yahoo.com/news/gamestop-gme-upgraded-strong-buy-170006515.html&sa=U&ved=2ahUKEwiq7Z3AkoaFAxVSe2wGHWlODbcQxfQBegQICBAC&usg=AOvVaw2PVI-zxO8Str-tKm493XC6',\n",
       "  '/url?q=https://finance.yahoo.com/news/gamestop-gme-posts-breakeven-earnings-202700458.html&sa=U&ved=2ahUKEwiq7Z3AkoaFAxVSe2wGHWlODbcQxfQBegQIABAC&usg=AOvVaw2NGyRnLu179_g0BCYVOuBc',\n",
       "  '/search?q=yahoo+finance+GME&sca_esv=0d7590debed7ac0b&ie=UTF-8&tbm=nws&ei=0ZH8ZerAMNL2seMP6Zy1uAs&start=10&sa=N',\n",
       "  '/url?q=https://support.google.com/websearch%3Fp%3Dws_settings_location%26hl%3Den-IN&opi=89978449&sa=U&ved=0ahUKEwiq7Z3AkoaFAxVSe2wGHWlODbcQty4IUw&usg=AOvVaw0MLRJ0nZEF7QX0DXyb05DI',\n",
       "  '/url?q=https://accounts.google.com/ServiceLogin%3Fcontinue%3Dhttps://www.google.com/search%253Fq%253Dyahoo%252Bfinance%252BGME%2526tbm%253Dnws%26hl%3Den&opi=89978449&sa=U&ved=0ahUKEwiq7Z3AkoaFAxVSe2wGHWlODbcQxs8CCFQ&usg=AOvVaw3KFhGHtazyTCNL5qpFE7mG',\n",
       "  'https://www.google.com/preferences?hl=en-IN&fg=1&sa=X&ved=0ahUKEwiq7Z3AkoaFAxVSe2wGHWlODbcQ5fUCCFU',\n",
       "  'https://policies.google.com/privacy?hl=en-IN&fg=1',\n",
       "  'https://policies.google.com/terms?hl=en-IN&fg=1',\n",
       "  '/setprefs?hl=en&prev=https://www.google.com/search?q%3Dyahoo%2Bfinance%2BGME%26tbm%3Dnws%26pccc%3D1&sig=0_IXr87Egky_fjmd6HFduIoo7645U%3D&cs=2&sa=X&ved=0ahUKEwiq7Z3AkoaFAxVSe2wGHWlODbcQjcAJCFY'],\n",
       " 'TSLA': ['/?sa=X&ved=0ahUKEwi1h8fAkoaFAxXWRmwGHZgbCGoQOwgC',\n",
       "  '/search?q=yahoo+finance+TSLA&sca_esv=0d7590debed7ac0b&ie=UTF-8&tbm=nws&gbv=1&sei=0pH8ZbXWHNaNseMPmLeg0AY',\n",
       "  '/search?q=yahoo+finance+TSLA&sca_esv=0d7590debed7ac0b&ie=UTF-8&source=lnms&sa=X&ved=0ahUKEwi1h8fAkoaFAxXWRmwGHZgbCGoQ_AUIBSgA',\n",
       "  '/search?q=yahoo+finance+TSLA&sca_esv=0d7590debed7ac0b&ie=UTF-8&tbm=vid&source=lnms&sa=X&ved=0ahUKEwi1h8fAkoaFAxXWRmwGHZgbCGoQ_AUIBygC',\n",
       "  '/search?q=yahoo+finance+TSLA&sca_esv=0d7590debed7ac0b&ie=UTF-8&tbm=bks&source=lnms&sa=X&ved=0ahUKEwi1h8fAkoaFAxXWRmwGHZgbCGoQ_AUICCgD',\n",
       "  '/search?q=yahoo+finance+TSLA&sca_esv=0d7590debed7ac0b&ie=UTF-8&tbm=isch&source=lnms&sa=X&ved=0ahUKEwi1h8fAkoaFAxXWRmwGHZgbCGoQ_AUICSgE',\n",
       "  '/url?q=https://maps.google.com/maps%3Fq%3Dyahoo%2Bfinance%2BTSLA%26um%3D1%26ie%3DUTF-8%26ved%3D1t:200713%26ictx%3D111&opi=89978449&sa=U&ved=0ahUKEwi1h8fAkoaFAxXWRmwGHZgbCGoQiaAMCAooBQ&usg=AOvVaw2JC_p5s4miQul3FADdhYr-',\n",
       "  '/url?q=/search%3Fq%3Dyahoo%2Bfinance%2BTSLA%26sca_esv%3D0d7590debed7ac0b%26ie%3DUTF-8%26tbm%3Dshop%26source%3Dlnms%26ved%3D1t:200713%26ictx%3D111&opi=89978449&sa=U&ved=0ahUKEwi1h8fAkoaFAxXWRmwGHZgbCGoQiaAMCAsoBg&usg=AOvVaw3IlCRGwN12kdgJu5k_cGtP',\n",
       "  '/advanced_search',\n",
       "  '/search?q=yahoo+finance+TSLA&sca_esv=0d7590debed7ac0b&ie=UTF-8&tbm=nws&source=lnt&tbs=qdr:h&sa=X&ved=0ahUKEwi1h8fAkoaFAxXWRmwGHZgbCGoQpwUIDQ',\n",
       "  '/search?q=yahoo+finance+TSLA&sca_esv=0d7590debed7ac0b&ie=UTF-8&tbm=nws&source=lnt&tbs=qdr:d&sa=X&ved=0ahUKEwi1h8fAkoaFAxXWRmwGHZgbCGoQpwUIDg',\n",
       "  '/search?q=yahoo+finance+TSLA&sca_esv=0d7590debed7ac0b&ie=UTF-8&tbm=nws&source=lnt&tbs=qdr:w&sa=X&ved=0ahUKEwi1h8fAkoaFAxXWRmwGHZgbCGoQpwUIDw',\n",
       "  '/search?q=yahoo+finance+TSLA&sca_esv=0d7590debed7ac0b&ie=UTF-8&tbm=nws&source=lnt&tbs=qdr:m&sa=X&ved=0ahUKEwi1h8fAkoaFAxXWRmwGHZgbCGoQpwUIEA',\n",
       "  '/search?q=yahoo+finance+TSLA&sca_esv=0d7590debed7ac0b&ie=UTF-8&tbm=nws&source=lnt&tbs=qdr:y&sa=X&ved=0ahUKEwi1h8fAkoaFAxXWRmwGHZgbCGoQpwUIEQ',\n",
       "  '/search?q=yahoo+finance+TSLA&sca_esv=0d7590debed7ac0b&ie=UTF-8&tbm=nws&source=lnt&tbs=ar:1&sa=X&ved=0ahUKEwi1h8fAkoaFAxXWRmwGHZgbCGoQpwUIEg',\n",
       "  '/search?q=yahoo+finance+TSLA&sca_esv=0d7590debed7ac0b&ie=UTF-8&tbm=nws&source=lnt&tbs=sbd:1&sa=X&ved=0ahUKEwi1h8fAkoaFAxXWRmwGHZgbCGoQpwUIFA',\n",
       "  '/url?q=https://finance.yahoo.com/news/great-news-tesla-stock-investors-205603973.html&sa=U&ved=2ahUKEwi1h8fAkoaFAxXWRmwGHZgbCGoQxfQBegQIARAC&usg=AOvVaw3e627bxasXfUriM5-5A_23',\n",
       "  '/url?q=https://finance.yahoo.com/video/tesla-pepsico-hashicorp-trending-tickers-150049826.html&sa=U&ved=2ahUKEwi1h8fAkoaFAxXWRmwGHZgbCGoQxfQBegQICRAC&usg=AOvVaw0zokUzh0UE62FJbi3PyO3p',\n",
       "  '/url?q=https://finance.yahoo.com/news/tesla-growth-company-no-growth-130559327.html&sa=U&ved=2ahUKEwi1h8fAkoaFAxXWRmwGHZgbCGoQxfQBegQIAxAC&usg=AOvVaw0Pv4WrXXhmXcG_agYsdBgM',\n",
       "  '/url?q=https://finance.yahoo.com/video/tesla-ceo-elon-musk-hurting-165507347.html&sa=U&ved=2ahUKEwi1h8fAkoaFAxXWRmwGHZgbCGoQxfQBegQIBxAC&usg=AOvVaw0XxlJ0UfqJoqYSKVSZ93G0',\n",
       "  '/url?q=https://finance.yahoo.com/news/live/stock-market-today-nvidia-tesla-drag-tech-stocks-lower-as-sp-500-pulls-back-from-record-200209612.html&sa=U&ved=2ahUKEwi1h8fAkoaFAxXWRmwGHZgbCGoQxfQBegQICBAC&usg=AOvVaw1uPeUpi_GElozW43RwkYNP',\n",
       "  '/url?q=https://finance.yahoo.com/news/tesla-stock-tumbles-7-as-shipments-slump-new-price-cuts-announced-in-china-210846757.html&sa=U&ved=2ahUKEwi1h8fAkoaFAxXWRmwGHZgbCGoQxfQBegQIAhAC&usg=AOvVaw2dcxUaPZw-h8TJvZ4bN0QY',\n",
       "  '/url?q=https://finance.yahoo.com/news/where-tesla-stock-3-years-121600991.html&sa=U&ved=2ahUKEwi1h8fAkoaFAxXWRmwGHZgbCGoQxfQBegQIBhAC&usg=AOvVaw3u0kS59_QfaEqrEv84XAxH',\n",
       "  '/url?q=https://finance.yahoo.com/news/amazon-vs-tesla-stock-better-160057955.html&sa=U&ved=2ahUKEwi1h8fAkoaFAxXWRmwGHZgbCGoQxfQBegQIBBAC&usg=AOvVaw3_pXVzIFyuQEoiQ9UhzJW9',\n",
       "  '/url?q=https://finance.yahoo.com/video/tesla-ceo-elon-musk-teases-144750471.html&sa=U&ved=2ahUKEwi1h8fAkoaFAxXWRmwGHZgbCGoQxfQBegQIBRAC&usg=AOvVaw2i0wn_C9NL5Q72XXs9ztIt',\n",
       "  '/url?q=https://ca.finance.yahoo.com/news/enbridge-stock-worth-more-tesla-133000196.html&sa=U&ved=2ahUKEwi1h8fAkoaFAxXWRmwGHZgbCGoQxfQBegQIABAC&usg=AOvVaw2RUQmJ-Nsq8pDbcsIkD2II',\n",
       "  '/search?q=yahoo+finance+TSLA&sca_esv=0d7590debed7ac0b&ie=UTF-8&tbm=nws&ei=0pH8ZbXWHNaNseMPmLeg0AY&start=10&sa=N',\n",
       "  '/url?q=https://support.google.com/websearch%3Fp%3Dws_settings_location%26hl%3Den-IN&opi=89978449&sa=U&ved=0ahUKEwi1h8fAkoaFAxXWRmwGHZgbCGoQty4IUw&usg=AOvVaw37vLf0v1CbU2zVe0bz0uUI',\n",
       "  '/url?q=https://accounts.google.com/ServiceLogin%3Fcontinue%3Dhttps://www.google.com/search%253Fq%253Dyahoo%252Bfinance%252BTSLA%2526tbm%253Dnws%26hl%3Den&opi=89978449&sa=U&ved=0ahUKEwi1h8fAkoaFAxXWRmwGHZgbCGoQxs8CCFQ&usg=AOvVaw3plF1lOdhfHggmdmzM45Z0',\n",
       "  'https://www.google.com/preferences?hl=en-IN&fg=1&sa=X&ved=0ahUKEwi1h8fAkoaFAxXWRmwGHZgbCGoQ5fUCCFU',\n",
       "  'https://policies.google.com/privacy?hl=en-IN&fg=1',\n",
       "  'https://policies.google.com/terms?hl=en-IN&fg=1',\n",
       "  '/setprefs?hl=en&prev=https://www.google.com/search?q%3Dyahoo%2Bfinance%2BTSLA%26tbm%3Dnws%26pccc%3D1&sig=0_4hMuXnX84aOgPmL8DZJPTYsNq9g%3D&cs=2&sa=X&ved=0ahUKEwi1h8fAkoaFAxXWRmwGHZgbCGoQjcAJCFY'],\n",
       " 'BTC': ['/?sa=X&ved=0ahUKEwi0h-jAkoaFAxV-e2wGHYx8D9EQOwgC',\n",
       "  '/search?q=yahoo+finance+BTC&sca_esv=0d7590debed7ac0b&ie=UTF-8&tbm=nws&gbv=1&sei=05H8ZfRR_vax4w-M-b2IDQ',\n",
       "  '/search?q=yahoo+finance+BTC&sca_esv=0d7590debed7ac0b&ie=UTF-8&source=lnms&sa=X&ved=0ahUKEwi0h-jAkoaFAxV-e2wGHYx8D9EQ_AUIBSgA',\n",
       "  '/search?q=yahoo+finance+BTC&sca_esv=0d7590debed7ac0b&ie=UTF-8&tbm=isch&source=lnms&sa=X&ved=0ahUKEwi0h-jAkoaFAxV-e2wGHYx8D9EQ_AUIBygC',\n",
       "  '/search?q=yahoo+finance+BTC&sca_esv=0d7590debed7ac0b&ie=UTF-8&tbm=vid&source=lnms&sa=X&ved=0ahUKEwi0h-jAkoaFAxV-e2wGHYx8D9EQ_AUICCgD',\n",
       "  '/url?q=https://maps.google.com/maps%3Fq%3Dyahoo%2Bfinance%2BBTC%26um%3D1%26ie%3DUTF-8%26ved%3D1t:200713%26ictx%3D111&opi=89978449&sa=U&ved=0ahUKEwi0h-jAkoaFAxV-e2wGHYx8D9EQiaAMCAkoBA&usg=AOvVaw2FwZI6F3tXleBOwou6poi3',\n",
       "  '/url?q=/search%3Fq%3Dyahoo%2Bfinance%2BBTC%26sca_esv%3D0d7590debed7ac0b%26ie%3DUTF-8%26tbm%3Dshop%26source%3Dlnms%26ved%3D1t:200713%26ictx%3D111&opi=89978449&sa=U&ved=0ahUKEwi0h-jAkoaFAxV-e2wGHYx8D9EQiaAMCAooBQ&usg=AOvVaw1LmzlLumRslAdV1M7ouWrW',\n",
       "  '/search?q=yahoo+finance+BTC&sca_esv=0d7590debed7ac0b&ie=UTF-8&tbm=bks&source=lnms&sa=X&ved=0ahUKEwi0h-jAkoaFAxV-e2wGHYx8D9EQ_AUICygG',\n",
       "  '/advanced_search',\n",
       "  '/search?q=yahoo+finance+BTC&sca_esv=0d7590debed7ac0b&ie=UTF-8&tbm=nws&source=lnt&tbs=qdr:h&sa=X&ved=0ahUKEwi0h-jAkoaFAxV-e2wGHYx8D9EQpwUIDQ',\n",
       "  '/search?q=yahoo+finance+BTC&sca_esv=0d7590debed7ac0b&ie=UTF-8&tbm=nws&source=lnt&tbs=qdr:d&sa=X&ved=0ahUKEwi0h-jAkoaFAxV-e2wGHYx8D9EQpwUIDg',\n",
       "  '/search?q=yahoo+finance+BTC&sca_esv=0d7590debed7ac0b&ie=UTF-8&tbm=nws&source=lnt&tbs=qdr:w&sa=X&ved=0ahUKEwi0h-jAkoaFAxV-e2wGHYx8D9EQpwUIDw',\n",
       "  '/search?q=yahoo+finance+BTC&sca_esv=0d7590debed7ac0b&ie=UTF-8&tbm=nws&source=lnt&tbs=qdr:m&sa=X&ved=0ahUKEwi0h-jAkoaFAxV-e2wGHYx8D9EQpwUIEA',\n",
       "  '/search?q=yahoo+finance+BTC&sca_esv=0d7590debed7ac0b&ie=UTF-8&tbm=nws&source=lnt&tbs=qdr:y&sa=X&ved=0ahUKEwi0h-jAkoaFAxV-e2wGHYx8D9EQpwUIEQ',\n",
       "  '/search?q=yahoo+finance+BTC&sca_esv=0d7590debed7ac0b&ie=UTF-8&tbm=nws&source=lnt&tbs=ar:1&sa=X&ved=0ahUKEwi0h-jAkoaFAxV-e2wGHYx8D9EQpwUIEg',\n",
       "  '/search?q=yahoo+finance+BTC&sca_esv=0d7590debed7ac0b&ie=UTF-8&tbm=nws&source=lnt&tbs=sbd:1&sa=X&ved=0ahUKEwi0h-jAkoaFAxV-e2wGHYx8D9EQpwUIFA',\n",
       "  '/url?q=https://finance.yahoo.com/news/bitcoin-halving-change-crypto-again-194631760.html&sa=U&ved=2ahUKEwi0h-jAkoaFAxV-e2wGHYx8D9EQxfQBegQIARAC&usg=AOvVaw2y3-p9PiLxHmtlNutc4WOb',\n",
       "  '/url?q=https://finance.yahoo.com/news/does-microstrategy-now-own-1-140012540.html&sa=U&ved=2ahUKEwi0h-jAkoaFAxV-e2wGHYx8D9EQxfQBegQICRAC&usg=AOvVaw3GbyKqDRttIwye1_ZTA-nt',\n",
       "  '/url?q=https://finance.yahoo.com/news/bitcoin-to-350000-bulls-say-the-current-rally-is-just-the-beginning-184753964.html&sa=U&ved=2ahUKEwi0h-jAkoaFAxV-e2wGHYx8D9EQxfQBegQIBhAC&usg=AOvVaw1VX2IAfLCTgIZbyn7TW-7I',\n",
       "  '/url?q=https://finance.yahoo.com/video/bitcoin-best-investment-asset-michael-204653205.html&sa=U&ved=2ahUKEwi0h-jAkoaFAxV-e2wGHYx8D9EQxfQBegQIBRAC&usg=AOvVaw2kNn7X9Or5QHr8VVj-wHf1',\n",
       "  '/url?q=https://finance.yahoo.com/video/bitcoin-sinks-stocks-wrap-busy-113024393.html&sa=U&ved=2ahUKEwi0h-jAkoaFAxV-e2wGHYx8D9EQxfQBegQIABAC&usg=AOvVaw0ie_aPj1MYeKH2DUhvOOOM',\n",
       "  '/url?q=https://finance.yahoo.com/video/bitcoin-rally-investors-buy-reinvigorated-213231008.html&sa=U&ved=2ahUKEwi0h-jAkoaFAxV-e2wGHYx8D9EQxfQBegQIAhAC&usg=AOvVaw1cAf-XDmfboVGbvNye7qy8',\n",
       "  '/url?q=https://finance.yahoo.com/video/bitcoin-spikes-above-70k-record-160821093.html&sa=U&ved=2ahUKEwi0h-jAkoaFAxV-e2wGHYx8D9EQxfQBegQICBAC&usg=AOvVaw1Fbun-4rCLvAF3_en0DSfU',\n",
       "  '/url?q=https://finance.yahoo.com/video/bitcoins-rally-proof-very-sustainable-152804371.html&sa=U&ved=2ahUKEwi0h-jAkoaFAxV-e2wGHYx8D9EQxfQBegQIBBAC&usg=AOvVaw1AcKbdpS-eEMDhMfY_oGDr',\n",
       "  '/url?q=https://finance.yahoo.com/news/stock-market-today-nasdaq-leads-stock-slide-bitcoin-tumbles-after-new-record-210041125.html&sa=U&ved=2ahUKEwi0h-jAkoaFAxV-e2wGHYx8D9EQxfQBegQIBxAC&usg=AOvVaw2l_TkfEjoRdn0YLX5cPddi',\n",
       "  '/url?q=https://finance.yahoo.com/video/bitcoins-high-stitch-fix-t-153622090.html&sa=U&ved=2ahUKEwi0h-jAkoaFAxV-e2wGHYx8D9EQxfQBegQIAxAC&usg=AOvVaw3ESaC4gLUUi1hcYS2Q6N5P',\n",
       "  '/search?q=yahoo+finance+BTC&sca_esv=0d7590debed7ac0b&ie=UTF-8&tbm=nws&ei=05H8ZfRR_vax4w-M-b2IDQ&start=10&sa=N',\n",
       "  '/url?q=https://support.google.com/websearch%3Fp%3Dws_settings_location%26hl%3Den-IN&opi=89978449&sa=U&ved=0ahUKEwi0h-jAkoaFAxV-e2wGHYx8D9EQty4IUw&usg=AOvVaw0QGVMtI3xPk-VpnP5299cF',\n",
       "  '/url?q=https://accounts.google.com/ServiceLogin%3Fcontinue%3Dhttps://www.google.com/search%253Fq%253Dyahoo%252Bfinance%252BBTC%2526tbm%253Dnws%26hl%3Den&opi=89978449&sa=U&ved=0ahUKEwi0h-jAkoaFAxV-e2wGHYx8D9EQxs8CCFQ&usg=AOvVaw2nAZHw3x0PcJefI8KN7Jy4',\n",
       "  'https://www.google.com/preferences?hl=en-IN&fg=1&sa=X&ved=0ahUKEwi0h-jAkoaFAxV-e2wGHYx8D9EQ5fUCCFU',\n",
       "  'https://policies.google.com/privacy?hl=en-IN&fg=1',\n",
       "  'https://policies.google.com/terms?hl=en-IN&fg=1',\n",
       "  '/setprefs?hl=en&prev=https://www.google.com/search?q%3Dyahoo%2Bfinance%2BBTC%26tbm%3Dnws%26pccc%3D1&sig=0_q0ynTvH2g5eJGHEOwlfHpCfpoSI%3D&cs=2&sa=X&ved=0ahUKEwi0h-jAkoaFAxV-e2wGHYx8D9EQjcAJCFY']}"
      ]
     },
     "execution_count": 11,
     "metadata": {},
     "output_type": "execute_result"
    }
   ],
   "source": [
    "raw_urls = {ticker:search_for_stock_news_urls(ticker) for ticker in monitored_tickers}\n",
    "raw_urls"
   ]
  },
  {
   "cell_type": "code",
   "execution_count": 12,
   "metadata": {},
   "outputs": [
    {
     "data": {
      "text/plain": [
       "['/?sa=X&ved=0ahUKEwiq7Z3AkoaFAxVSe2wGHWlODbcQOwgC',\n",
       " '/search?q=yahoo+finance+GME&sca_esv=0d7590debed7ac0b&ie=UTF-8&tbm=nws&gbv=1&sei=0ZH8ZerAMNL2seMP6Zy1uAs',\n",
       " '/search?q=yahoo+finance+GME&sca_esv=0d7590debed7ac0b&ie=UTF-8&source=lnms&sa=X&ved=0ahUKEwiq7Z3AkoaFAxVSe2wGHWlODbcQ_AUIBSgA',\n",
       " '/search?q=yahoo+finance+GME&sca_esv=0d7590debed7ac0b&ie=UTF-8&tbm=vid&source=lnms&sa=X&ved=0ahUKEwiq7Z3AkoaFAxVSe2wGHWlODbcQ_AUIBygC',\n",
       " '/search?q=yahoo+finance+GME&sca_esv=0d7590debed7ac0b&ie=UTF-8&tbm=bks&source=lnms&sa=X&ved=0ahUKEwiq7Z3AkoaFAxVSe2wGHWlODbcQ_AUICCgD',\n",
       " '/search?q=yahoo+finance+GME&sca_esv=0d7590debed7ac0b&ie=UTF-8&tbm=isch&source=lnms&sa=X&ved=0ahUKEwiq7Z3AkoaFAxVSe2wGHWlODbcQ_AUICSgE',\n",
       " '/url?q=https://maps.google.com/maps%3Fq%3Dyahoo%2Bfinance%2BGME%26um%3D1%26ie%3DUTF-8%26ved%3D1t:200713%26ictx%3D111&opi=89978449&sa=U&ved=0ahUKEwiq7Z3AkoaFAxVSe2wGHWlODbcQiaAMCAooBQ&usg=AOvVaw0URNHJ1Pl3Fpiw5RNzhKp0',\n",
       " '/url?q=/search%3Fq%3Dyahoo%2Bfinance%2BGME%26sca_esv%3D0d7590debed7ac0b%26ie%3DUTF-8%26tbm%3Dshop%26source%3Dlnms%26ved%3D1t:200713%26ictx%3D111&opi=89978449&sa=U&ved=0ahUKEwiq7Z3AkoaFAxVSe2wGHWlODbcQiaAMCAsoBg&usg=AOvVaw3c6PEaEep6vBeancXbdKi5',\n",
       " '/advanced_search',\n",
       " '/search?q=yahoo+finance+GME&sca_esv=0d7590debed7ac0b&ie=UTF-8&tbm=nws&source=lnt&tbs=qdr:h&sa=X&ved=0ahUKEwiq7Z3AkoaFAxVSe2wGHWlODbcQpwUIDQ',\n",
       " '/search?q=yahoo+finance+GME&sca_esv=0d7590debed7ac0b&ie=UTF-8&tbm=nws&source=lnt&tbs=qdr:d&sa=X&ved=0ahUKEwiq7Z3AkoaFAxVSe2wGHWlODbcQpwUIDg',\n",
       " '/search?q=yahoo+finance+GME&sca_esv=0d7590debed7ac0b&ie=UTF-8&tbm=nws&source=lnt&tbs=qdr:w&sa=X&ved=0ahUKEwiq7Z3AkoaFAxVSe2wGHWlODbcQpwUIDw',\n",
       " '/search?q=yahoo+finance+GME&sca_esv=0d7590debed7ac0b&ie=UTF-8&tbm=nws&source=lnt&tbs=qdr:m&sa=X&ved=0ahUKEwiq7Z3AkoaFAxVSe2wGHWlODbcQpwUIEA',\n",
       " '/search?q=yahoo+finance+GME&sca_esv=0d7590debed7ac0b&ie=UTF-8&tbm=nws&source=lnt&tbs=qdr:y&sa=X&ved=0ahUKEwiq7Z3AkoaFAxVSe2wGHWlODbcQpwUIEQ',\n",
       " '/search?q=yahoo+finance+GME&sca_esv=0d7590debed7ac0b&ie=UTF-8&tbm=nws&source=lnt&tbs=ar:1&sa=X&ved=0ahUKEwiq7Z3AkoaFAxVSe2wGHWlODbcQpwUIEg',\n",
       " '/search?q=yahoo+finance+GME&sca_esv=0d7590debed7ac0b&ie=UTF-8&tbm=nws&source=lnt&tbs=sbd:1&sa=X&ved=0ahUKEwiq7Z3AkoaFAxVSe2wGHWlODbcQpwUIFA',\n",
       " '/url?q=https://finance.yahoo.com/news/gamestop-nyse-gme-misses-q3-211648468.html&sa=U&ved=2ahUKEwiq7Z3AkoaFAxVSe2wGHWlODbcQxfQBegQIARAC&usg=AOvVaw2av88PFK7O7TiKsEf6v2Ga',\n",
       " '/url?q=https://finance.yahoo.com/news/gamestop-gme-true-worth-really-163851598.html&sa=U&ved=2ahUKEwiq7Z3AkoaFAxVSe2wGHWlODbcQxfQBegQICRAC&usg=AOvVaw0jgb38CpVdy_0h--WDCm6Z',\n",
       " '/url?q=https://finance.yahoo.com/news/down-19-41-4-weeks-133506409.html&sa=U&ved=2ahUKEwiq7Z3AkoaFAxVSe2wGHWlODbcQxfQBegQIBRAC&usg=AOvVaw1dYVd6Mk2XxzX5xCojUqeq',\n",
       " '/url?q=https://finance.yahoo.com/news/gamestop-gme-strong-industry-solid-134000154.html&sa=U&ved=2ahUKEwiq7Z3AkoaFAxVSe2wGHWlODbcQxfQBegQIAhAC&usg=AOvVaw2rUSL8IUB_O7YyHi_r87v8',\n",
       " '/url?q=https://finance.yahoo.com/news/bull-day-gamestop-gme-120000551.html&sa=U&ved=2ahUKEwiq7Z3AkoaFAxVSe2wGHWlODbcQxfQBegQIAxAC&usg=AOvVaw2qaG1PHvc_0_rpI88MN1mz',\n",
       " '/url?q=https://finance.yahoo.com/news/unveiling-gamestop-gme-value-really-155119864.html&sa=U&ved=2ahUKEwiq7Z3AkoaFAxVSe2wGHWlODbcQxfQBegQIBxAC&usg=AOvVaw1xbqZ8ZgnH2Oi1DjaJaXpH',\n",
       " '/url?q=https://finance.yahoo.com/news/gamestop-corp-gme-reports-narrowed-224622965.html&sa=U&ved=2ahUKEwiq7Z3AkoaFAxVSe2wGHWlODbcQxfQBegQIBBAC&usg=AOvVaw1NRU5ay7qnHn7fRuseRrSo',\n",
       " '/url?q=https://finance.yahoo.com/news/3-sorry-gaming-stocks-sell-171540757.html&sa=U&ved=2ahUKEwiq7Z3AkoaFAxVSe2wGHWlODbcQxfQBegQIBhAC&usg=AOvVaw06MaNaz5nKJJpykPassbNb',\n",
       " '/url?q=https://finance.yahoo.com/news/gamestop-gme-upgraded-strong-buy-170006515.html&sa=U&ved=2ahUKEwiq7Z3AkoaFAxVSe2wGHWlODbcQxfQBegQICBAC&usg=AOvVaw2PVI-zxO8Str-tKm493XC6',\n",
       " '/url?q=https://finance.yahoo.com/news/gamestop-gme-posts-breakeven-earnings-202700458.html&sa=U&ved=2ahUKEwiq7Z3AkoaFAxVSe2wGHWlODbcQxfQBegQIABAC&usg=AOvVaw2NGyRnLu179_g0BCYVOuBc',\n",
       " '/search?q=yahoo+finance+GME&sca_esv=0d7590debed7ac0b&ie=UTF-8&tbm=nws&ei=0ZH8ZerAMNL2seMP6Zy1uAs&start=10&sa=N',\n",
       " '/url?q=https://support.google.com/websearch%3Fp%3Dws_settings_location%26hl%3Den-IN&opi=89978449&sa=U&ved=0ahUKEwiq7Z3AkoaFAxVSe2wGHWlODbcQty4IUw&usg=AOvVaw0MLRJ0nZEF7QX0DXyb05DI',\n",
       " '/url?q=https://accounts.google.com/ServiceLogin%3Fcontinue%3Dhttps://www.google.com/search%253Fq%253Dyahoo%252Bfinance%252BGME%2526tbm%253Dnws%26hl%3Den&opi=89978449&sa=U&ved=0ahUKEwiq7Z3AkoaFAxVSe2wGHWlODbcQxs8CCFQ&usg=AOvVaw3KFhGHtazyTCNL5qpFE7mG',\n",
       " 'https://www.google.com/preferences?hl=en-IN&fg=1&sa=X&ved=0ahUKEwiq7Z3AkoaFAxVSe2wGHWlODbcQ5fUCCFU',\n",
       " 'https://policies.google.com/privacy?hl=en-IN&fg=1',\n",
       " 'https://policies.google.com/terms?hl=en-IN&fg=1',\n",
       " '/setprefs?hl=en&prev=https://www.google.com/search?q%3Dyahoo%2Bfinance%2BGME%26tbm%3Dnws%26pccc%3D1&sig=0_IXr87Egky_fjmd6HFduIoo7645U%3D&cs=2&sa=X&ved=0ahUKEwiq7Z3AkoaFAxVSe2wGHWlODbcQjcAJCFY']"
      ]
     },
     "execution_count": 12,
     "metadata": {},
     "output_type": "execute_result"
    }
   ],
   "source": [
    "raw_urls['GME']"
   ]
  },
  {
   "cell_type": "code",
   "execution_count": 13,
   "metadata": {},
   "outputs": [],
   "source": [
    "\n",
    "import re"
   ]
  },
  {
   "cell_type": "code",
   "execution_count": 14,
   "metadata": {},
   "outputs": [],
   "source": [
    "\n",
    "exclude_list = ['maps', 'policies', 'preferences', 'accounts', 'support']"
   ]
  },
  {
   "cell_type": "code",
   "execution_count": 15,
   "metadata": {},
   "outputs": [],
   "source": [
    "\n",
    "def strip_unwanted_urls(urls, exclude_list):\n",
    "    val = []\n",
    "    for url in urls: \n",
    "        if 'https://' in url and not any(exclude_word in url for exclude_word in exclude_list):\n",
    "            res = re.findall(r'(https?://\\S+)', url)[0].split('&')[0]\n",
    "            val.append(res)\n",
    "    return list(set(val))"
   ]
  },
  {
   "cell_type": "code",
   "execution_count": 16,
   "metadata": {},
   "outputs": [
    {
     "data": {
      "text/plain": [
       "{'GME': ['https://finance.yahoo.com/news/bull-day-gamestop-gme-120000551.html',\n",
       "  'https://finance.yahoo.com/news/gamestop-gme-upgraded-strong-buy-170006515.html',\n",
       "  'https://finance.yahoo.com/news/gamestop-nyse-gme-misses-q3-211648468.html',\n",
       "  'https://finance.yahoo.com/news/gamestop-corp-gme-reports-narrowed-224622965.html',\n",
       "  'https://finance.yahoo.com/news/unveiling-gamestop-gme-value-really-155119864.html',\n",
       "  'https://finance.yahoo.com/news/3-sorry-gaming-stocks-sell-171540757.html',\n",
       "  'https://finance.yahoo.com/news/gamestop-gme-true-worth-really-163851598.html',\n",
       "  'https://finance.yahoo.com/news/gamestop-gme-posts-breakeven-earnings-202700458.html',\n",
       "  'https://finance.yahoo.com/news/down-19-41-4-weeks-133506409.html',\n",
       "  'https://www.google.com/search?q%3Dyahoo%2Bfinance%2BGME%26tbm%3Dnws%26pccc%3D1',\n",
       "  'https://finance.yahoo.com/news/gamestop-gme-strong-industry-solid-134000154.html'],\n",
       " 'TSLA': ['https://finance.yahoo.com/news/tesla-stock-tumbles-7-as-shipments-slump-new-price-cuts-announced-in-china-210846757.html',\n",
       "  'https://finance.yahoo.com/video/tesla-ceo-elon-musk-teases-144750471.html',\n",
       "  'https://finance.yahoo.com/news/amazon-vs-tesla-stock-better-160057955.html',\n",
       "  'https://finance.yahoo.com/news/great-news-tesla-stock-investors-205603973.html',\n",
       "  'https://finance.yahoo.com/news/where-tesla-stock-3-years-121600991.html',\n",
       "  'https://finance.yahoo.com/news/live/stock-market-today-nvidia-tesla-drag-tech-stocks-lower-as-sp-500-pulls-back-from-record-200209612.html',\n",
       "  'https://finance.yahoo.com/video/tesla-pepsico-hashicorp-trending-tickers-150049826.html',\n",
       "  'https://finance.yahoo.com/video/tesla-ceo-elon-musk-hurting-165507347.html',\n",
       "  'https://ca.finance.yahoo.com/news/enbridge-stock-worth-more-tesla-133000196.html',\n",
       "  'https://finance.yahoo.com/news/tesla-growth-company-no-growth-130559327.html',\n",
       "  'https://www.google.com/search?q%3Dyahoo%2Bfinance%2BTSLA%26tbm%3Dnws%26pccc%3D1'],\n",
       " 'BTC': ['https://finance.yahoo.com/video/bitcoin-best-investment-asset-michael-204653205.html',\n",
       "  'https://finance.yahoo.com/news/bitcoin-to-350000-bulls-say-the-current-rally-is-just-the-beginning-184753964.html',\n",
       "  'https://finance.yahoo.com/news/does-microstrategy-now-own-1-140012540.html',\n",
       "  'https://finance.yahoo.com/video/bitcoin-spikes-above-70k-record-160821093.html',\n",
       "  'https://finance.yahoo.com/video/bitcoin-sinks-stocks-wrap-busy-113024393.html',\n",
       "  'https://finance.yahoo.com/video/bitcoins-rally-proof-very-sustainable-152804371.html',\n",
       "  'https://finance.yahoo.com/news/stock-market-today-nasdaq-leads-stock-slide-bitcoin-tumbles-after-new-record-210041125.html',\n",
       "  'https://finance.yahoo.com/news/bitcoin-halving-change-crypto-again-194631760.html',\n",
       "  'https://finance.yahoo.com/video/bitcoins-high-stitch-fix-t-153622090.html',\n",
       "  'https://www.google.com/search?q%3Dyahoo%2Bfinance%2BBTC%26tbm%3Dnws%26pccc%3D1',\n",
       "  'https://finance.yahoo.com/video/bitcoin-rally-investors-buy-reinvigorated-213231008.html']}"
      ]
     },
     "execution_count": 16,
     "metadata": {},
     "output_type": "execute_result"
    }
   ],
   "source": [
    "\n",
    "cleaned_urls = {ticker:strip_unwanted_urls(raw_urls[ticker], exclude_list) for ticker in monitored_tickers}\n",
    "cleaned_urls"
   ]
  },
  {
   "cell_type": "code",
   "execution_count": 17,
   "metadata": {},
   "outputs": [],
   "source": [
    "def scrape_and_process(URLs):\n",
    "    ARTICLES = []\n",
    "    for url in URLs: \n",
    "        r = requests.get(url)\n",
    "        soup = BeautifulSoup(r.text, 'html.parser')\n",
    "        paragraphs = soup.find_all('p')\n",
    "        text = [paragraph.text for paragraph in paragraphs]\n",
    "        words = ' '.join(text).split(' ')[:350]\n",
    "        ARTICLE = ' '.join(words)\n",
    "        ARTICLES.append(ARTICLE)\n",
    "    return ARTICLES"
   ]
  },
  {
   "cell_type": "code",
   "execution_count": 18,
   "metadata": {},
   "outputs": [],
   "source": [
    "def scrape_and_process(URLs):\n",
    "    ARTICLES = []\n",
    "    for url in URLs:\n",
    "        try:\n",
    "            headers = {'User-Agent': 'Mozilla/5.0 (Windows NT 10.0; Win64; x64) AppleWebKit/537.36 (KHTML, like Gecko) Chrome/58.0.3029.110 Safari/537.3'}\n",
    "            r = requests.get(url, headers=headers)\n",
    "            r.raise_for_status()  # Raise an error for non-200 status codes\n",
    "            soup = BeautifulSoup(r.text, 'html.parser')\n",
    "            paragraphs = soup.find_all('p')\n",
    "            text = [paragraph.text for paragraph in paragraphs]\n",
    "            words = ' '.join(text).split(' ')[:350]\n",
    "            ARTICLE = ' '.join(words)\n",
    "            ARTICLES.append(ARTICLE)\n",
    "        except requests.HTTPError as e:\n",
    "            if e.response.status_code == 404:\n",
    "                print(f\"Error 404: Page not found for URL: {url}\")\n",
    "            else:\n",
    "                print(f\"HTTP Error {e.response.status_code} for URL: {url}\")\n",
    "            ARTICLES.append(None)  # Append None to indicate failure\n",
    "        except Exception as e:\n",
    "            print(f\"Error scraping {url}: {e}\")\n",
    "            ARTICLES.append(None)  # Append None to indicate failure\n",
    "    return ARTICLES\n",
    "\n"
   ]
  },
  {
   "cell_type": "code",
   "execution_count": 19,
   "metadata": {},
   "outputs": [
    {
     "data": {
      "text/plain": [
       "{'GME': ['Before everybody goes nuts over here and calls me an overzealous wannabe that must have just watched “Dumb Money” I want to hammer home the fact that this has nothing to do with Roaring Kitty. Really, it’s just based on facts and actions taken by analysts on Wall Street that Zacks happens to aggregate. All-in-all, it’s a great way to highlight the Zacks Rank by pointing out the action in today’s Bull of the Day, GameStop (GME).  GameStop Corp., a specialty retailer, provides games and entertainment products through its stores and ecommerce platforms in the United States, Canada, Australia, and Europe. The company sells new and pre-owned gaming platforms; accessories, such as controllers, gaming headsets, and virtual reality products; new and pre-owned gaming software; and in-game digital currency, digital downloadable content, and full-game downloads. It also sells collectibles comprising apparel, toys, trading cards, gadgets, and other retail products for pop culture and technology enthusiasts, as well as engages in the digital asset wallet and NFT marketplace activities. The stock is currently a Zacks Rank #1 (Strong Buy) in the Retail – Consumer Electronics industry which ranks in the Top 5% of our Zacks Industry Rank. The reason for the strong rank is that two analysts have come out over the last week and increased their earnings estimates for both the current year and next year. The bullish move has catapulted the current year Zacks Consensus Estimate from a 17-cent loss to just a 2-cent loss. That now represents growth of 98% over last year. Next year’s number is up from a 20-cent loss to just a 5-cent loss. Image Source: Zacks Investment Research A quick look at the Price, Consensus and EPS Surprise Chart on GameStop shows that estimates and the stock’s price has been moving in opposite directions. Since the end of 2022, estimates have trended in a singular direction, up. At the same time, the stock has come down from near $30 to the $15 level it sits at today. That sort of divergence between earnings and price will not last forever. Either earnings will come down',\n",
       "  \"GameStop (GME) appears an attractive pick, as it has been recently upgraded to a Zacks Rank #1 (Strong Buy). This upgrade primarily reflects an upward trend in earnings estimates, which is one of the most powerful forces impacting stock prices. The sole determinant of the Zacks rating is a company's changing earnings picture. The Zacks Consensus Estimate -- the consensus of EPS estimates from the sell-side analysts covering the stock -- for the current and following years is tracked by the system. Since a changing earnings picture is a powerful factor influencing near-term stock price movements, the Zacks rating system is very useful for individual investors. They may find it difficult to make decisions based on rating upgrades by Wall Street analysts, as these are mostly driven by subjective factors that are hard to see and measure in real time. As such, the Zacks rating upgrade for GameStop is essentially a positive comment on its earnings outlook that could have a favorable impact on its stock price. Most Powerful Force Impacting Stock Prices The change in a company's future earnings potential, as reflected in earnings estimate revisions, and the near-term price movement of its stock are proven to be strongly correlated. The influence of institutional investors has a partial contribution to this relationship, as these big professionals use earnings and earnings estimates to calculate the fair value of a company's shares. An increase or decrease in earnings estimates in their valuation models simply results in higher or lower fair value for a stock, and institutional investors typically buy or sell it. Their transaction of large amounts of shares then leads to price movement for the stock. For GameStop, rising earnings estimates and the consequent rating upgrade fundamentally mean an improvement in the company's underlying business. And investors' appreciation of this improving business trend should push the stock higher. Harnessing the Power of Earnings Estimate Revisions As empirical research shows a strong correlation between trends in earnings estimate revisions and near-term stock movements, tracking such revisions for making an investment decision could be truly rewarding. Here is where the tried-and-tested Zacks\",\n",
       "  \"Video game retailer GameStop (NYSE:GME) fell short of analysts' expectations in Q3 FY2023, with revenue down 9.1% year on year to $1.08 billion. It made a non-GAAP loss of $0 per share, improving from its loss of $0.31 per share in the same quarter last year. Is now the time to buy GameStop? Find out by accessing our full research report, it's free. Revenue: $1.08 billion vs analyst estimates of $1.18 billion (8.8% miss) EPS (non-GAAP): $0 vs analyst estimates of -$0.08 ($0.08 beat) Free Cash Flow of $11.1 million, down 93.2% from the same quarter last year Gross Margin (GAAP): 26.1%, up from 24.6% in the same quarter last year Drawing gaming fans with demo units set up with the latest releases, GameStop (NYSE:GME) sells new and used video games, consoles, and accessories, as well as pop culture merchandise. After a long day, some of us want to just watch TV, play video games, listen to music, or scroll through our phones; electronics and gaming retailers sell the technology that makes this possible, plus more. Shoppers can find everything from surround-sound speakers to gaming controllers to home appliances in their stores. Competitive prices and helpful store associates that can talk through topics like the latest technology in gaming and installation keep customers coming back. This is a category that has moved rapidly online over the last few decades, so these electronics and gaming retailers have needed to be nimble and aggressive with their e-commerce and omnichannel investments. GameStop is a mid-sized retailer, which sometimes brings disadvantages compared to larger competitors benefiting from better economies of scale. On the other hand, it has an edge over smaller competitors with fewer resources and can still flex high growth rates because it's growing off a smaller base than its larger counterparts. As you can see below, the company's revenue has declined over the last four years, dropping 6.1% annually. This quarter, GameStop reported a rather uninspiring 9.1% year-on-year revenue decline, missing Wall Street's expectations. Looking ahead, the Wall Street analysts covering the company expect revenue to remain relatively flat over the next\",\n",
       "  \"Net sales decreased to $1.078 billion in Q3 2023 from $1.186 billion in Q3 2022. Net loss improved to $3.1 million in Q3 2023 from a net loss of $94.7 million in Q3 2022. SG&A expenses reduced to $296.5 million or 27.5% of net sales, down from $387.9 million or 32.7% of net sales year-over-year. Cash, cash equivalents, and marketable securities stood strong at $1.210 billion at the end of the quarter. Warning! GuruFocus has detected 2 Warning Sign with GME. On December 6, 2023, GameStop Corp (NYSE:GME) released its 8-K filing, disclosing its financial results for the third quarter ended October 28, 2023. The company reported a decrease in net sales to $1.078 billion compared to $1.186 billion in the same period last year. Despite the decline in sales, GameStop saw a significant improvement in its net loss, which narrowed to $3.1 million from a net loss of $94.7 million in the prior year's third quarter. GameStop's efforts to streamline operations were evident in the reduction of Selling, General, and Administrative (SG&A) expenses, which were $296.5 million or 27.5% of net sales, down from $387.9 million or 32.7% of net sales in the third quarter of the previous year. The company's balance sheet remains robust with $1.210 billion in cash, cash equivalents, and marketable securities, and long-term debt limited to a low-interest, unsecured term loan associated with the French government's COVID-19 relief efforts. The condensed and consolidated financial statements revealed a gross profit of $281.8 million, a slight decrease from $291.6 million year-over-year. The operating loss was reduced to $14.7 million from $96.3 million in the prior year's third quarter. Interest income, net, was a loss of $12.9 million, compared to a loss of $3.7 million in the same period last year. GameStop's balance sheet showed total assets of $3.146.9 million, with current assets including $909.0 million in cash and cash equivalents and $300.5 million in marketable securities. Total liabilities stood at $1.884.1 million. The cash flow statement indicated a net cash flow provided by operating activities of $19.1 million for the 13 weeks ended October 28, 2023, compared\",\n",
       "  \"GameStop Corp (NYSE:GME) recently posted a Loss Per Share of 0.33, with a daily loss of 6.25% and a 3-month loss of 35.51%. Although these figures may seem discouraging, our analysis aims to answer a critical question: Is GameStop (NYSE:GME) significantly undervalued? We invite you to delve into this comprehensive analysis of GameStop's valuation, financial strength, profitability, and growth prospects. Warning! GuruFocus has detected 2 Warning Sign with GME. Click here to check it out.  GME 30-Year Financial Data The intrinsic value of GME GameStop Corp is a U.S. multichannel video game, consumer electronics, and services retailer. The company operates across Europe, Canada, Australia, and the United States, selling new and second-hand video game hardware, physical and digital video game software, and video game accessories. With two main business segments: Video game brands and Technology brands, GameStop's current stock price stands at $15.43 per share, with a market cap of $4.70 billion. This analysis will explore whether this price accurately reflects GameStop's intrinsic value, also known as the GF Value. The GF Value is a proprietary measure of a stock's intrinsic value, computed considering historical trading multiples, a GuruFocus adjustment factor based on past performance and growth, and future business performance estimates. The GF Value Line indicates the stock's ideal fair trading value. If the stock price is significantly above the GF Value Line, it is overvalued and its future return is likely to be poor. On the other hand, if it is significantly below the GF Value Line, its future return will likely be higher. GameStop (NYSE:GME) appears to be significantly undervalued based on the GF Value calculation. At its current price of $15.43 per share and a market cap of $4.70 billion, the long-term return of its stock is likely to be much higher than its business growth. Link: These companies may deliever higher future returns at reduced risk. Investing in companies with low financial strength could result in permanent capital loss. Therefore, it's crucial to review a company's financial strength before deciding to buy shares. Looking at the cash-to-debt ratio and interest coverage can give a\",\n",
       "  'The video gaming business continues to be the fastest growing segment of the entertainment industry. Grand View Research forecasts that the global video game market will grow at a compound annual growth rate (CAGR) of 13.4% between now and 2030. Eventually, it will reach $583.69 billion in revenue for consoles, hardware, and games combined. Video games are increasingly diverse and played across a range of platforms, including consoles, desktop computers, and smartphones. Made for mobile devices, they are one of the fastest growing segments of the industry. At the same time, video games and their characters are providing fodder for movies and television shows that dominate the streaming sector. However, not every company in the industry is succeeding. Let’s explore three sorry gaming stocks to sell in February while you still can. InvestorPlace - Stock Market News, Stock Advice & Trading Tips Source: 1take1shot / Shutterstock.com We’ll start with GameStop (NYSE:GME), the first name that often comes to mind when one thinks of sorry gaming stocks. Five weeks into 2024 and GME stock is down 16%. That brings the share price decline to 34% over the last 12 months. GameStop is a long way from its 2021 peak when it was treated as the mother of all meme stocks. In fact, retail investors have all but abandoned the stock. Also, the current share price reflects dwindling financials and a turnaround strategy that is going nowhere fast. The future of GameStop remains to be seen. The company’s brick-and-mortar retail stores continue to post diminishing returns and the transition to an online first business model appears to be stalled. New CEO and main investor in the company Ryan Cohen has yet to outline his vision for the future. However, he convinced the company’s board of directors to let him invest GameStop’s surplus cash in stocks and crypto. What could go wrong? Source: Sundry Photography / Shutterstock.com PlayStation video game maker Sony (NYSE:SONY) hasn’t set the investing world on fire lately. In the past 12 months, SONY stock is up only 6%, with most of the gain coming in the past month. The',\n",
       "  \"GameStop Corp (NYSE:GME) has experienced a daily loss of -3.66%, and a 3-month loss of -24.56%, with a reported Loss Per Share of 0.33. The question that arises is: Is the stock significantly undervalued? This article aims to answer this question by providing a thorough valuation analysis of GameStop. We invite you to delve into this insightful exploration of GameStop's intrinsic value. Warning! GuruFocus has detected 3 Warning Sign with GME. Click here to check it out.  GME 30-Year Financial Data The intrinsic value of GME GameStop Corp is a U.S. multichannel video game, consumer electronics, and services retailer. Operating across Europe, Canada, Australia, and the United States, GameStop sells new and second-hand video game hardware, physical and digital video game software, and video game accessories. The company's operations are primarily through GameStop, EB Games, and Micromania stores and international e-commerce sites. With two main business segments: Video game brands and Technology brands, GameStop has established a significant presence in the industry. Despite a market cap of $5.20 billion and sales of $5.80 billion, GameStop's stock price of $17.06 per share appears to be significantly undervalued when compared to the GF Value of $25.07, an estimation of its fair value. The GF Value represents the current intrinsic value of a stock derived from our exclusive method. The GF Value Line on our summary page gives an overview of the fair value that the stock should be traded at. It is calculated based on three factors: 1. Historical multiples (PE Ratio, PS Ratio, PB Ratio and Price-to-Free-Cash-Flow) that the stock has traded at.2. GuruFocus adjustment factor based on the company's past returns and growth.3. Future estimates of the business performance. Our analysis reveals that GameStop's stock appears to be significantly undervalued. The GF Value Line suggests that the stock's fair value is higher than its current price of $17.06 per share. Given that GameStop's market cap is $5.20 billion, the stock seems to be significantly undervalued. Consequently, the long-term return of GameStop's stock is likely to be much higher than its business growth. Link: These companies may deliever higher future\",\n",
       "  'GameStop Corp. GME posted mixed third-quarter fiscal 2023 results, delivering breakeven earnings per share and lower-than-expected revenues. While the top line declined year over year, the bottom line compared favorably with the year-ago quarter’s reported figure. Higher inflationary pressures on consumers’ spending in the gaming industry have been resulting in lower demand and in turn, weighing on the company’s results.The video game retailer’s shares have fallen around 6% during after-hours trading on Dec 6, on soft sales results. Shares of this Zacks Rank #3 (Hold) company have fallen 14.3% in the past three months compared with the industry’s 2.3% drop. GameStop posted breakeven earnings per share in third-quarter fiscal 2023 compared with the Zacks Consensus Estimate of a loss of 12 cents per share. The company had incurred an adjusted loss per share of 31 cents in the prior year quarter.GME reported net sales of $1,078 million, which missed the consensus estimate of $1,159 million. Also, the metric decreased 9.1% from $1,186.4 million reported in the year-ago fiscal quarter. Lower sales across all the categories contributed to soft sales. Image Source: Zacks Investment Research By sales mix, hardware and accessories sales fell to $579.4 million from $627 million reported in the year-ago quarter. Software sales were $321.3 million, down from $352.1 million in the year-ago quarter. Sales in the collectibles unit amounted to $177.6 million compared with $207.3 million reported in the year-ago quarter. Gross profit decreased to $281.8 million from $291.6 million in the year-ago fiscal quarter. Adjusted selling, general and administrative (SG&A) expenses declined to $294.9 million from $386.6 million reported in the year-ago quarter. As a percentage of net sales, SG&A expenses were 27.5%, down from 32.7% reported in the year-ago period.The company’s adjusted operating loss was $13.1 million in the reported quarter. It had reported an adjusted operating loss of $95 million in the prior-year fiscal period. Adjusted EBITDA was $5.1 million against an adjusted EBITDA loss of $66.6 million in the prior-year quarter. GameStop ended the third quarter with cash and cash equivalents of $909 million, net long-term debt of $20 million and stockholders’ equity',\n",
       "  \"GameStop (GME) has been on a downward spiral lately with significant selling pressure. After declining 19.4% over the past four weeks, the stock looks well positioned for a trend reversal as it is now in oversold territory and there is strong agreement among Wall Street analysts that the company will report better earnings than they predicted earlier. How to Determine if a Stock is Oversold We use Relative Strength Index (RSI), one of the most commonly used technical indicators, for spotting whether a stock is oversold. This is a momentum oscillator that measures the speed and change of price movements. RSI oscillates between zero and 100. Usually, a stock is considered oversold when its RSI reading falls below 30. Technically, every stock oscillates between being overbought and oversold irrespective of the quality of their fundamentals. And the beauty of RSI is that it helps you quickly and easily check if a stock's price is reaching a point of reversal. So, by this measure, if a stock has gotten too far below its fair value just because of unwarranted selling pressure, investors may start looking for entry opportunities in the stock for benefitting from the inevitable rebound. However, like every investing tool, RSI has its limitations, and should not be used alone for making an investment decision. Here's Why GME Could Experience a Turnaround The RSI reading of 29.62 for GME is an indication that the heavy selling could be in the process of exhausting itself, so the stock could bounce back in a quest for reaching the old equilibrium of supply and demand. The RSI value is not the only factor that indicates a potential turnaround for the stock in the near term. On the fundamental side, there has been strong agreement among the sell-side analysts covering the stock in raising earnings estimates for the current year. Over the last 30 days, the consensus EPS estimate for GME has increased 30.8%. And an upward trend in earnings estimate revisions usually translates into price appreciation in the near term. Moreover, GME currently has a Zacks Rank #1 (Strong Buy), which means\",\n",
       "  '© 2024 - Privacy - Terms',\n",
       "  'One stock that might be an intriguing choice for investors right now is GameStop Corp. GME. This is because this security in the Retail - Consumer Electronics space is seeing solid earnings estimate revision activity, and is in great company from a Zacks Industry Rank perspective.This is important because, often times, a rising tide will lift all boats in an industry, as there can be broad trends taking place in a segment that are boosting securities across the board. This is arguably taking place in the Retail - Consumer Electronics space as it currently has a Zacks Industry Rank of 12 out of more than 250 industries, suggesting it is well-positioned from this perspective, especially when compared to other segments out there.Meanwhile, GameStop is actually looking pretty good on its own too. The firm has seen solid earnings estimate revision activity over the past month, suggesting analysts are becoming a bit more bullish on the firm’s prospects in both the short and long term. GameStop Corp. price-consensus-chart | GameStop Corp. Quote In fact, over the past month, current quarter estimates have risen from 17 cents per share to 20 cents per share, while current year estimates have narrowed from a loss of 12 cents per share to a loss of 2 cents per share. This has helped GME to earn a Zacks Rank #1 (Strong Buy), further underscoring the company’s solid position. You can see the complete list of today’s Zacks #1 Rank stocks here.So, if you are looking for a decent pick in a strong industry, consider GameStop. Not only is its industry currently in the top third, but it is seeing solid estimate revisions as of late, suggesting it could be a very interesting choice for investors seeking a name in this great industry segment. Want the latest recommendations from Zacks Investment Research? Today, you can download 7 Best Stocks for the Next 30 Days. Click to get this free report GameStop Corp. (GME) : Free Stock Analysis Report To read this article on Zacks.com click here. Zacks Investment Research Related Quotes'],\n",
       " 'TSLA': [\"Tesla (TSLA) shares dropped to new multi-week lows as slowing China shipments and new price cuts there hint at troubles for the EV stalwart in the world’s largest car market. Tesla reported 60,365 vehicle shipments from its Giga Shanghai factory in February, according to preliminary data from China’s PCA (Passenger Car Association) via Bloomberg. The February shipments represent a 16% drop from a month ago, a 19% drop from a year ago, and the lowest shipment total since December 2022. Tesla shares closed down 7.16%, its lowest close since Feb. 13. The Chinese Lunar Holiday, during which the country shuts down for nearly two weeks, fell in February of this year. Historically, this has led to depressed economic activity and sales in the country. In addition, Tesla uses earlier months in the quarter to fulfill shipments outside of China and generally ramps up shipments later in the quarter for China domestic sales. But Tesla’s lowest shipment total in over a year is a concern for the company, which sees China as a huge growth market. Even China’s BYD, which surpassed Tesla in overall EV sales in Q4 and generally dominates the Chinese EV market, saw its February sales tumble to 122,311 units from 193,655, a 37% drop. China now sells the most EVs in the world, but a recent slowdown in demand for EVs has led automakers there to engage in another price war earlier this year — and this includes Tesla. According to a report from Deutsche Bank’s Emmanuel Rosner published on Monday, Tesla's latest incentives on the mainland include the “equivalent of ~$4.8K price cut to customers who purchase from existing inventories of Model 3 and Model Y vehicles by the end of March.” Rosner said the new incentives include insurance discounts, discounts on paint changes, and preferential financing plans on the Model Y. The latest incentives come after Tesla cut prices in January for the Model 3 and Model Y by 5.9% and 2.8%, respectively. The competition is fierce in China’s EV market, and Tesla having to cut prices and possibly reduce shipments is definitely a concern\",\n",
       "  'Tesla (TSLA) shares are moving higher after announcing plans to boost the price of its Model Y vehicle by $1,000 starting on April 1. Yahoo Finance Anchors Brad Smith and Seana Smith break down the latest development for Tesla and what it could mean for the broader EV landscape moving forward. For more expert insight and the latest market action, click here to watch this full episode of Yahoo Finance Live. Editor\\'s note: This article was written by Nicholas Jacobino SEANA SMITH: Shares of Tesla are moving to the upside, another big data point out this morning, or a headline, I should say. The company raising the price on its Model Y by $1,000 next month in April. You\\'re now looking at gains of just about 2%. We know Tesla had been slashing its prices in order to boost demand. It was a concern here amongst analysts over the last several quarters. Evercore coming out, saying that the price rise is, quote, \"likely a marketing push to sell production inventory into quarter end as Q1 deliveries appear weak.\" But again Tesla raising the price here by $1,000. Maybe it will help their margins. How long, though, the key price is there-- that, of course, is a question, too. And how the rest of the industry responds, as well. Any time you see a price movement in Tesla, more often than not, GM, Ford, also Stellantis considering how they can make sure that their pricing mechanisms keep pace with the demand environment, too. Related Quotes',\n",
       "  'Elon Musk and Jeff Bezos, the CEOs of Tesla and Amazon, are the two richest individuals on the planet, behind only the family of Bernard Arnault. With respective net worths of $188.5 and $192.8 billion, they’ve clearly benefited from the stratospheric rises in their companies’ stock prices. But as you’ll hear constantly repeated on Wall Street, past performance is not a guarantee of future results. So the question remains, which stock — Tesla or Amazon — is the better buy going forward? Here’s a look at where the stocks have been, the pros and cons that currently affect them and what analysts think can happen from here. Check Out: 10 Valuable Stocks That Could Be the Next Apple or AmazonUp Next: 6 Genius Things All Wealthy People Do With Their Money Sponsored: Protect Your Wealth With A Gold IRA. Take advantage of the timeless appeal of gold in a Gold IRA recommended by Sean Hannity. Here are the performance stats for Tesla and Amazon over the past one-, three-, five-, 10- and 15-year periods. One-year return: -9.35% Three-year average annual return: -11.50% Five-year average annual return: 54.87% 10-year average annual return: 26.66% 15-year average annual return: N/A One-year return: 81.31% Three-year average annual return: 4.22% Five-year average annual return: 15.29% 10-year average annual return: 25.03% 15-year average annual return: 29.94% Despite the extreme variability in the performance of these two stocks, their 10-year average annual return is quite close. Read More: I’m a Financial Advisor: I’d Invest My First $5,000 in These 6 Stocks On a year-to-date (YTD) performance thus far in 2024, Tesla has been absolutely slaughtered, down over 34%. This makes Tesla the worst-performing stock in the entire S&P 500 on a year-to-date basis. Amazon, on the other hand, has had a banner year in 2024, up 14.8% YTD as of March 15. This more than doubles the S&P 500’s YTD return of 7.17%. Currently, 32 Wall Street analysts follow Tesla stock, and they have a consensus “buy” rating on the company. Their average 12-month price target is $207.30, marking a potential gain one year out of about',\n",
       "  'Fool.com contributor Parkev Tatevosian discusses what the latest move from Tesla (NASDAQ: TSLA) could mean for investors. *Stock prices used were the afternoon prices of March 18, 2024. The video was published on March 20, 2024. Where to invest $1,000 right now When our analyst team has a stock tip, it can pay to listen. After all, the newsletter they have run for two decades, Motley Fool Stock Advisor, has\\xa0more than tripled\\xa0the market.* They just revealed what they believe are the 10 best stocks for investors to buy right now… and Tesla made the list -- but there are 9 other stocks you may be overlooking. See the 10 stocks *Stock Advisor returns as of March 20, 2024 Parkev Tatevosian, CFA has no position in any of the stocks mentioned. The Motley Fool has positions in and recommends Tesla. The Motley Fool has a disclosure policy.\\xa0 Parkev Tatevosian is an affiliate of The Motley Fool and may be compensated for promoting its services. If you choose to subscribe through\\xa0his link, he will earn some extra money that supports his channel. His opinions remain his own and are unaffected by The Motley Fool. Great News for Tesla Stock Investors! was originally published by The Motley Fool Related Quotes',\n",
       "  \"The stock market is soaring yet again. But this time, Tesla (NASDAQ: TSLA) is not leading the charge. In fact, the market is up in spite of the electric vehicle (EV) leader. Tesla shares have fallen a whopping 34% year to date (YTD) as of this writing, while the Nasdaq-100 continues to rise. The stock is now off 60% from all-time highs, while the broad market is close to all-time highs. We are at another crossroads with Tesla stock. Bulls will argue this is a perfect buying opportunity as the company prepares for its next leg of growth. Bears will argue the company is finally heading toward a normal valuation that a manufacturing-based business deserves to trade at. Which group is right? Where will Tesla stock be in three years? Tesla continued to grow its unit volumes in 2023. It delivered 1.8 million cars to customers around the globe, up from 1.3 million in 2022 and 936,000 in 2021. This is impressive growth at scale, making Tesla one of the premier manufacturers of not just EVs, but cars in general. For reference, the largest automaker in the world is Toyota, which produces just over 10 million cars every year. But to get this unit growth, Tesla has had to lower its prices. Its main products have evolved to the cheaper Model 3 and Y products, which go for less than its older X and S models. On top of this, Tesla has chosen -- or perhaps been forced -- to lower prices on the Model 3 and Y to grow unit volumes. We can see this dynamic in the price of used Teslas, which have collapsed by half from a relative peak in early 2022. Lower prices have translated to slowing revenue growth and lower margins. In 2023, Tesla's revenue grew by 19% to $97 billion, but slowed down to just 3% growth in the fourth quarter. Gross margins slipped from 25.6% in 2022 to 18.2% in 2023, with operating income falling 35% for the year. Margins are deteriorating as Tesla goes for a greater global scale. In order to\",\n",
       "  \"US stocks were a mixed bag on Wednesday with the S&P 500's (^GSPC) record-setting run hitting pause as several tech giants saw their stocks retreat. The S&P 500 was off about 0.2%, while the Dow Jones Industrial Average (^DJI) rose 0.1%. The tech-heavy Nasdaq Composite (^IXIC) led the losses, falling more than 0.5% after tech led Tuesday's rally. High-flying Nvidia (NVDA) fell more than 1%, while Tesla (TSLA) fell over 4.5% after a Wells Fargo downgrade and sales warning. Stocks had gained Tuesday, with the S&P 500 hitting a new record amid continued optimism that the Federal Reserve will start to cut interest rates within months despite February's hotter-than-estimated reading on core consumer inflation. That alone could prompt policymakers to stay cautious about easing up on borrowing costs when the Fed holds its monthly policy meeting next week. But with the US economy outstripping Wall Street's forecasts, investors are keeping their hopes warm until they get wholesale inflation and retail sales data on Thursday. On the crypto front, bitcoin (BTC-USD) was changing hands above $73,000, continuing a furious, record-setting rally of its own. In corporates, DollarTree's (DLTR) shares sank about 14% after the company swung to a quarterly loss. The discount retailer said it plans to close nearly 1,000 stores and will take a charge of over $1 billion. A quiet day of trading for some of the market's biggest names saw the Nasdaq Composite (^IXIC) lead the declines. But under the surface, there's been a sector rotation underway and new S&P 500 sectors are hitting fresh record closes. Materials (XLB) joined the list on Wednesday, notching its first record high since Dec. 31, 2021. A rise in gas prices contributed to February's hotter-than-expected inflation print. And more pain at the pump for consumers is expected in the coming weeks. Yahoo Finance's Ines Ferre reports:  Drivers can expect to pay higher prices at the pump in the coming weeks due to tighter gasoline supplies and a more expensive summer blend. On Wednesday, the average price of gas in the US inched toward $3.40 per gallon, up $0.18 from a\",\n",
       "  'Stocks (^DJI,^GSPC, ^IXIC) are moving higher in early trading on Monday as investors await the latest decision on interest rates from the Federal Reserve, which will come on Wednesday. Tesla (TSLA) is a stock on the move. Goldman Sachs cut its price target on the shares to $190 from $220 citing near-term challenges. It comes as the EV maker announces it will increase the price of its Model Y in April in both the US and Europe. PepsiCo (PEP) shares are on the rise after analysts at Morgan Stanley upgraded its shares to Overweight from Equal Weight, deeming it a \"top pick.\" Shares of HashiCorp (HCP) are moving higher following a Bloomberg report that the software company is exploring a potential sale. Yahoo Finance\\'s Brad Smith takes a closer look at some of Monday morning\\'s trending tickers. For more expert insight and the latest market action, click here to watch this full episode of Yahoo Finance Live. Editor\\'s note: This article was written by Stephanie Mikulich. BRAD SMITH: Let\\'s take a look at how things are shaping up right now. Markets are higher as investors await the latest policy decision from the Federal Reserve, that\\'s Wednesday. All eyes will be on that dot plot to get a sense of the rate cuts to come this year. Now to some trending tickers that we\\'re tracking here this morning. Goldman Sachs trimmed its price target on Tesla from $220 a share to $190 a share. The company faces a slew of production market headwinds, and analyst Mark Delaney saying that Tesla is well positioned for longer-term growth, but softer near-term EV market conditions are seen weighing on earnings. Shares still higher today right now by about 2.4%. Meanwhile, Morgan Stanley says it\\'s time to buy shares of Pepsi. Analyst Dara Mohsenian saying that they are upgrading the beverage and snack giants to overweight from equal weight calling it a \"top pick.\" The new price target of $190 indicates a 15.4% upside over the next 12 months. And finally, shares of San Francisco-based software provider HashiCorp are rallying today following a report from',\n",
       "  'Tesla (TSLA) has seen share declines of over 33% in 2024 year-to-date, becoming a top laggard in the Magnificent Seven group of tech stocks. The EV maker is fighting an uphill battle as EV demand in the US wanes while the company has resorted to price cuts in Chinese markets. Gerber Kawasaki Wealth & Investment Management CEO Ross Gerber, a long-time Tesla investor and critic of CEO Elon Musk, discusses the demand headwinds Tesla faces, his own leadership concerns, and how Tesla is being evaluated as a tech company rather than a traditional auto manufacturer. \"The original story that I think most investors bought into with Tesla didn\\'t really include Elon and Twitter. And... for a long time, we all hoped that it really wouldn\\'t affect Tesla and the demand for its products,\" Gerber says. \"We all know that that has now happened. The demand for Tesla products is obviously lower. They\\'ve had to discount and do many things that hurt margins and returns and, ultimately, profits for Tesla.\" For more expert insight and the latest market action, click here to watch this full episode of Yahoo Finance Live. Editor\\'s note: This article was written by Luke Carberry Mogan. AKIKO FUJITA: Well, Tesla shares falling more than 30% since the start of the year with a number of factors leading to that decline. The EV giant has received several analyst downgrades, including one from Wells Fargo on Wednesday. There\\'s also concerns about a slowdown in EV demand. Let\\'s talk about where investor sentiment is likely to lead to. Now, Ross Gerber, Gerber Kawasaki Wealth and Investment Management CEO joining us now. Ross, we always like to talk Tesla with you. But I wonder where you think about where Tesla has fallen right now. Is this just about Tesla coming back down to reality where fair value should be? Or are there fundamental questions about its growth potential now? ROSS GERBER: Well, unfortunately, I think it\\'s kind of both in that, the original story that I think most investors bought into with Tesla didn\\'t really include Elon and Twitter. And I',\n",
       "  'Industrials, consumer discretionary lead S&P 500 rally; Reddit shares jump on debut Written by Aditya Raghunath at The Motley Fool Canada Enbridge (TSX:ENB) and Tesla (NASDAQ:TSLA) are large-cap companies that have generated massive wealth for long-term shareholders. While Enbridge has a market cap of $103 billion, Tesla is a much larger company with a market cap of $553 billion. Let’s see if there is a chance for Enbridge stock to be worth more than Tesla by 2026. Shares of Tesla are down 58% from all-time highs as the electric vehicle (EV) manufacturer continues to wrestle with rising competition, a sluggish macro environment, and slower consumer spending. Tesla is among the largest EV manufacturers globally and it shipped 1.8 million cars in 2023, up from 1.3 million in 2022 and 936,000 in 2021. However, in the last few quarters, Tesla has lowered vehicle prices to boost demand, thereby impacting its profit margins and cash flow. Lower prices have led to a slowing of top-line growth and an erosion of profit margins. While Tesla’s sales rose by 19% to US$97 billion in 2023, it decelerated to just 3% in the December quarter. Moreover, its gross margins narrowed to 18.2% in 2023 from 25.6% in 2022, while operating income declined by 35% year over year. Analysts expect Tesla’s adjusted earnings per share to narrow from US$3.12 in 2023 to US$2.99 per share in 2024. So, the stock is priced at 60 times forward earnings, which is quite steep. Wall Street remains bullish on Tesla stock and expects shares to surge over 15% in the next 12 months. Armed with a wide economic moat, Enbridge is an energy infrastructure behemoth that transports commodities across North America. It charges a fee for companies that use its assets, resulting in stable cash flows across market cycles. Additionally, it owns a natural gas utility business and renewable energy assets, diversifying its revenue base. Enbridge pays shareholders an annual dividend of $3.66 per share, translating to a forward yield of 7.6%. These payouts have risen by 10% annually in the last 29 years, showcasing the resiliency of the',\n",
       "  '(Bloomberg) — Tesla Inc. is no longer a red-hot growth stock. CEO Elon Musk has said as much. Most Read from Bloomberg Putin Says Ukraine Deal Requires Security Pledges for Russia US House Passes Bill That Would Force TikTok Sale or Ban It Ex-Wall Street Banker Takes On AOC in New York Democratic Primary Physical Intelligence Is Building a Brain for Robots United Tells Boeing to Stop Making Its Long Delayed Max 10s But even by that new standard — with growth forecasts on Wall Street sinking rapidly — the grim sales prediction from a key Tesla analyst on Wednesday was still shocking. There’ll be zero growth in sales volumes for the electric-vehicle maker this year, Wells Fargo’s Colin Langan said. And in 2025, it’ll be worse yet: volumes will drop. Shares of the company reacted appropriately, dropping 4.5% to close at a 10-month low of $169.5 on Wednesday. The stock has now fallen 32% this year, missing out on a broader rally that has pushed the S&P 500 Index up 8.3%. The reason is clear: Tesla’s ability to grow at the furious pace that its expensive valuation promises is no longer a guarantee. The company still trades at a multiple that is significantly higher than other mega-cap high-flyers, yet the pace of expansion in its revenue and profit have slowed markedly since last year. “Right now, the market is voting and telling us that it believes Tesla does not currently deserve that high valuation,” Adam Sarhan, founder and CEO of 50 Park Investments, said in an interview. “For now, the sellers are in control and the market needs a bullish catalyst to get excited about.” Wall Street has been ringing the alarm bell loudly on Tesla since the beginning of March, after disappointing numbers from China, data from European countries and a production disruption at its factory near Berlin pointed to first-quarter deliveries missing analysts’ average expectations. Musk’s response — lowering prices to boost demand — is losing its edge as well. Wells Fargo’s Langan was the latest to note that the company’s growth in its core markets has',\n",
       "  '© 2024 - Privacy - Terms'],\n",
       " 'BTC': ['Bitcoin (BTC-USD) prices have hit new highs in 2024 thanks, in part, to the launch of spot bitcoin ETFs. It\\'s not a surprise to MicroStrategy Executive Chairman Michael Saylor, a longtime bitcoin bull, who calls the cryptocurrency \"the best investment asset.\" MicroStrategy (MSTR) recently increased its bitcoin holdings by 12,000, which Saylor says the company will continue doing. When asked if MicroStrategy will use some of its bitcoin holdings to return money to shareholders or make an acquisition, Saylor was clear, \"we believe that the highest, best use of capital is to buy bitcoin and hold the bitcoin\" adding that \"bitcoin is the winner\" compared to other assets. Overall, Saylor says the use case of bitcoin is \"capital preservation.\" Saylor compares investing in bitcoin to buying a home in a city everyone wants to move to, saying bitcoin \"is the apex property of the human race.\" Watch the video above to hear what Saylor tells Yahoo Finance\\'s Julie Hyman about investing in MicroStrategy versus investing in a spot bitcoin ETF. For more expert insight and the latest market action, click here to watch this full episode of Yahoo Finance Live. Editor\\'s note: This article was written by Stephanie Mikulich. Key video moments: 00:00:57 Why bitcoin is \"the best investment asset\" 00:01:18 Saylor explains why buying bitcoin is like buying property 00:05:16 Will MicroStrategy ever sell its bitcoin? 00:06:20 Investing in MicroStrategy versus a spot bitcoin ETF JULIE HYMAN: Well, despite declines for Bitcoin today, MicroStrategy shares. Well, they\\'re higher. TD Cowen and raising its price target on the stock to 1,560. That\\'s $1,560 after MicroStrategy increased its Bitcoin holdings by another 12,000 Bitcoin. The total holdings about 205,000 now. Joining me now MicroStrategy Executive Chairman, Michael Saylor. Michael, it\\'s good to see you. It\\'s been a little while. MICHAEL SAYLOR: Thanks for having me, Julie. JULIE HYMAN: So I want to start. I know that you are bullish on Bitcoin. I think everyone knows by now that you see a long-term store of value in Bitcoin. And you have said that you see it as digital property as opposed to',\n",
       "  'Bitcoin (BTC-USD) on Monday surged above $72,000, a new all-time high, but that’s far from the peak expected by some who track the world’s largest cryptocurrency. Lender Standard Chartered anticipates bitcoin will reach $100,000 by the end of the year. Research firm Fundstrat has a target range of $116,000 to $137,000. Hedge fund SkyBridge predicts $170,000 by April 2025. Read more: Is this a good time to invest in bitcoin? \"People think we\\'re nuts and that\\'s fine, but I don\\'t think we\\'re nuts and that\\'s why we have such a big position,\" Anthony Scaramucci, founder and CEO of SkyBridge Capital, told Yahoo Finance Live. Some on Wall Street say it is quite difficult to estimate the future price of bitcoin because it has no intrinsic value, and most big firms with large research arms are currently staying away from setting targets. JPMorgan Chase (JPM) CEO Jamie Dimon has likened it to a \"pet rock.\" \"Bitcoin is like art,\" said a Wall Street research analyst who requested anonymity. \"There\\'s no way to come up with a target.” That hasn’t stopped other financial firms from trying — and setting the price significantly higher than it is today. Some of the companies making these predictions also sell products that provide investors with exposure to the digital asset. One is VanEck, among the money managers that received approval from the Securities and Exchange Commission in January to launch a new spot bitcoin exchange-traded fund. VanEck recently scrapped its $80,000 target for 2024 as bitcoin began hitting new all-time highs in the past week. However, the firm\\'s \"medium-term\" target of $350,000 still holds. \"We are in unchartered territory,\" Matthew Sigel, head of VanEck\\'s digital assets research, told Yahoo Finance by email. Another money manager that received approval to launch a bitcoin ETF, Ark Invest, has thrown out a long-term bull case estimate of more than $1.3 million per coin in the next decade. Ark\\'s director of digital assets, Yassine Elmandjra, acknowledged such a lofty projection may seem \"absurd.\" His reasoning is that bitcoin will rise in value as its various use cases add to the',\n",
       "  \"MicroStrategy Inc., led by Chairman Michael Saylor, has made considerable investments in Bitcoin over the past several years. The buying activity has also picked up in recent months, as Bitcoin continues to soar and set new all-time highs. MicroStrategy's most recent purchase of Bitcoin occurred this month. In early March, it sold $700 million worth of convertible bonds intending to use the funds to buy more Bitcoin. Many were awaiting the details of the purchase, which were released on March 18. Don't Miss: About 22% of the adult population in the U.S. own a share of Bitcoin, how much would $10 get you today? If you invested $100 in DOGE when Elon Musk first tweeted about it in 2019, here’s how much you’d have today. Saylor took to X to give investors an update on the transactions. MicroStrategy bought an additional 9,245 Bitcoin for around $623 million using the funds from the convertible notes. The tokens were bought at an average price of $67,382. The transactions brought MicroStrategy's total Bitcoin holdings to 214,246. The entire position was acquired for around $7.5 billion or $35,160 per token. The position is up nearly 100%, creating roughly $6.2 billion in unrealized gains. MicroStrategy has long been the largest institutional holder of Bitcoin. However, this recent buy marked a huge milestone in the company's position. With the most recent buy, the company now holds 1.02% of the Bitcoin supply that will exist, and the percentage could be higher based on different assumptions. The total supply of Bitcoin is continuously growing but at a decreasing rate because of Bitcoin halvings. The supply reaches 21 million tokens in about 2140. Today, around 19.7 million tokens are in circulation. If you use this number for the supply of Bitcoin, MicroStrategy holds 1.08% of available tokens. Another view on the supply is that some wallets have been lost, meaning that the Bitcoin inside of them is effectively gone. While it is impossible to know for sure how many of these wallets are gone forever, estimates generally place the number of lost Bitcoins at between 4 million and 6\",\n",
       "  'Bitcoin (BTC-USD) swelled above its own all-time high set earlier this week, momentarily popping above $70,000 on Friday morning. Yahoo Finance Live monitors the cryptocurrency\\'s monumental comeback in 2024, taking a look at how crypto-adjacent stocks have been reacting to the year-to-date movements (COIN, MSTR, MARA). For more expert insight and the latest market action, click here to watch this full episode of Yahoo Finance Live. Editor\\'s note: This article was written by Luke Carberry Mogan. BRAD SMITH: Bitcoin-- taking a look at BTC/USD. It\\'s just hit another record high. As of right now, you\\'re seeing it just below $69,000. Bitcoin has been on a tear this year, up over 57% year-to-date. And it\\'s certainly been one of the larger trending business stories, financial stories, currency stories over the course of this week. across social media as well. SEANA SMITH: It certainly has. And as we\\'ve seen the price of Bitcoin rise, we have certainly seen many crypto-related crypto tied stocks also riding that wave to the upside. Coinbase, today, that crypto exchange, it\\'s rallied 300% in the last 12 months. The move to the upside today, taking that stock up now and topping its direct listing price here, as Bitcoin surges. We\\'re also seeing gains from MicroStrategy, from Marathon Digital, from CleanSpark among the winners within the crypto space, as we see this rally that we saw starting in 2023 continue here throughout the start of the year. And, again, Bitcoin closing out a record setting-- about to close out a record setting week with another record here today. BRAD SMITH: Yeah. I\\'m looking at this price spike that we saw. And this is on the \"Yahoo Finance\" platform. Everybody can go on there, do some advanced charting as well here. But the spike that took place Eastern time at around 10:30-ish AM Eastern time, which pushed it to nearly $70,000 here. So we\\'ll continue to watch this, of course, going into the weekend. Crypto markets don\\'t close. Related Quotes',\n",
       "  \"Bitcoin (BTC-USD) and other cryptocurrencies such as Ethereum (ETH-USD) and Solana (SOL-USD) are dropping this morning after bitcoin reached another all-time high this week. The move is dragging on crypto-related stocks, including Coinbase (COIN), MicroStrategy (MSTR), and CleanSpark (CLSK). Overall, it's been a busy week for Wall Street, with everything from inflation data to key earnings from Oracle (ORCL), Dick's (DKS), and Adobe (ADBE). Yahoo Finance trending tickers include Microsoft (MSFT), Ulta Beauty (ULTA), and Rivian (RIVN). Key guests include:9:15 a.m. ET - Susan Anderson, Canaccord Genuity Managing Director9:40 a.m. ET - Kate McShane, Goldman Sachs Equity Analyst and Managing Director10:40 a.m. ET - Todd McKinnon, Okta CEO11:30 a.m. ET - Christopher Newhouse, Cumberland Labs DeFi Analyst Related Quotes\",\n",
       "  'Bitcoin (BTC-USD) is traveling on multiple roads to redemption as it remains in striking distance of yet another record high after its tumble back below $69,000 — a level not seen since November 2021 — on Tuesday. The cryptocurrency\\'s rally may be far from over with crypto being at the top of many people\\'s minds ahead of major events for the space. Pantera Capital Portfolio Manager and Crypto Asset Manager Cosmo Jiang discusses volatility within bitcoin\\'s recent rise at a time when investors are finding more exposure to digital assets. \"It\\'s important to realize that digital assets are a lot more than just that [bitcoin]. There are 400 tokens with more than a $100 million market cap,\" Jiang tells Yahoo Finance. \"And as the next cycle gets underway, we believe that and we\\'ve seen over the last few cycles that the other coins outside of bitcoin really can outperform by many multiples during the different phases of the bull market.\" For more expert insight and the latest market action, click here to watch this full episode of Yahoo Finance Live. Editor\\'s note: This article was written by Luke Carberry Mogan. BRAD SMITH: The crypto rally in full swing here. Bitcoin rising more than 50% so far this year, briefly cracking that $69,000 level Tuesday. The cryptocurrency now hovering around $67,000. So how can investors play this rally? Here with some answers, we\\'ve got Cosmo Jiang, who is the Pantera Capital portfolio manager liquid strategies. Thank you so much for joining us here today, Cosmo. First and foremost, for people who are trying to figure out if this is now the right time to dip the toe into this crypto rally, what would you say to them? COSMO JIANG: Yeah, for sure. Well, first, thanks for having me. I\\'d say step one is really just go from 0% to 1%. You know, if we look at-- Coinbase has done a survey recently, and they\\'ve discovered that roughly 20% of Americans own crypto. So there\\'s actually a lot of people who are at 0% right now. And it\\'s going from 0% to',\n",
       "  'US stocks closed in a sea of red on Tuesday, pulling further away from record highs as uncertainty over interest rate cuts and a shakeup in \"Magnificent Seven\" stocks brought a note of wariness to the market. Contracts on the tech-heavy Nasdaq Composite (^IXIC) led the day\\'s declines, sinking about 1.7% as a retreat in Apple (AAPL) and Tesla (TSLA) continued to drag on stocks more widely. Both the S&P 500 (^GSPC) and Dow Jones Industrial Average (^DJI) closed down more than 1%. Apple came under pressure after a report that iPhone sales fell 24% in China, adding to Monday\\'s loss in the wake of a $2 billion EU antitrust fine. Tesla continued to slump as a shutdown at its Berlin Gigafactory added to concerns over a shipment slump and a Chinese price war. Bitcoin (BTC-USD) reached a fresh all-time high, briefly surpassing its previous record of $68,789 from November 2021. However, the cryptocurrency experienced a sizable drop shortly after, plummeting 10% to trade just around $62,000 a coin. The debate now is whether the tech gains behind the recent record-setting stock rally have reached their peak, as downbeat news saps the \"FOMO\" — fear of missing out — seen as keeping investors engaged. At the same time, faith in coming easing by the Federal Reserve took a knock after comments by policymaker Raphael Bostic. The Atlanta Fed president said he sees just one rate cut this year, penciled in for the third quarter. Investors are now even more focused on Fed Chair Jerome Powell\\'s testimony to Congress on Wednesday. His words will be closely watched for any change in the mantra that policymakers need to be convinced inflation is conquered before any move. In corporates, Target (TGT) earnings beat Wall Street forecasts, helping shares pop more than 10%. Shares of CrowdStrike jumped 17% after the cybersecurity firm reported quarterly earnings that beat on both the top and bottom lines and issued stronger-than-expected guidance for the current quarter. CrowdStrike projected first quarter adjusted earnings between $0.89 and $0.90 a share, ahead of the $0.82 estimate analysts had expected. The company\\'s',\n",
       "  \"Every four years, Bitcoin undergoes a “halving,” which cuts the daily supply of newly minted coins by 50%—an event that's historically caused prices to soar. As the next halving rapidly approaches, on or around April 19, investors are waiting to see whether this familiar pattern is repeated. Bitcoin has already climbed 60% this year, reaching an all-time high of over $72,000 in March. This has been driven by investors flocking to newly launched ETFs that allow them to buy Bitcoin in the form of shares on a stock exchange. But it’s also likely because markets know diminished supply from the halving could rally demand, and if history repeats itself, Bitcoin could outdo its 2021 bull run by a significant margin. Here’s Fortune’s plain English guide to the Bitcoin halving: what it is, why it matters, and how it could affect the price of the original cryptocurrency. Every time a new block is added to the Bitcoin blockchain, the contributor is given some Bitcoins as a reward. This “block reward” initially consisted of 50 bitcoins but, due to a feature of Bitcoin’s code, that amount is cut in half every four years. Previous halvings saw the block reward cut to 25 Bitcoins, then to 12.5, then to the current allotment of 6.25. The halving set for April will see the reward cut to 3.125. #Bitcoin Halving is near 32 days more to go.... pic.twitter.com/M8HTDu8y5l — Budhil Vyas (@BudhilVyas) March 19, 2024 Blocks are added by miners, which typically fall into three categories: retail (individuals with computers), industrial (often publicly traded, operating data farms), and mining pools (groups of miners who combine efforts over a network). Anyone can be a miner and eligible for rewards—which are issued every 10 minutes or so—if they download the Bitcoin program and run it on their computers. Rewards go to whomever is first to solve a complex math problem using trial-and-error calculations on a specialized computer. The mining is an integral part of updating transactions on the Bitcoin blockchain and keeping the network secure. Halvings occur after 210,000 blocks are created—roughly every four years.\\xa0It’s not possible\",\n",
       "  \"The S&P 500 (^GSPC) opened lower on Tuesday thanks to a decline in tech stocks and concerns about when the Federal Reserve will start cutting rates. It's a different story for bitcoin (BTC-USD), however, with the cryptocurrency notching a new all-time high. Alibaba (BABA) shares are on the move. The Chinese internet giant is one of the companies investing in Chinese AI startup MiniMax, according to a report from Bloomberg. Stitch Fix (SFIX) shares are trading lower after posting a wider-than-expected loss in the second quarter. The online styling company also cut its full-year sales outlook. AT&T (T) received an upgrade to Outperform from Peer Perform at Wolfe Research, which cites the telecom's fundamentals and the fact that it's paying down debt and becoming more efficient. Shares of SoFi Technologies (SOFI) are falling sharply after announcing a new debt offering. Yahoo Finance's Brad Smith and Seana Smith break down some of Tuesday's trending tickers. For more expert insight and the latest market action, click here to watch this full episode of Yahoo Finance Live. Editor's note: This article was written by Stephanie Mikulich. BRAD SMITH: Let's take a look at how things are shaping up. Stocks are lower pulling further back from record highs as uncertainty over interest rate cuts. And the continued strength of tech stocks brought a note of wariness to the market here. Meanwhile, Bitcoin is taking center stage surging past $68,000. And we'll see if it can hit a new all-time high today here as well. SEANA SMITH: All right. Let's take a look at some of those individual trending tickers, first up Alibaba investing in Chinese AI startup MiniMax. Now this is according to Bloomberg. MiniMax has secured funds from Alibaba and other investors at a valuation of over 2 and 1/2 billion dollars. Now Alibaba emulating moves of companies such as Microsoft and betting on artificial intelligence. This being Alibaba's second major deal in the space this year that it's spearheading. You could see the move up just about 7/10 of a percent. BRAD SMITH: And taking a look on the earnings front, Stitch\",\n",
       "  '© 2024 - Privacy - Terms',\n",
       "  'Bitcoin (BTC-USD) is one of the center focuses on Wall Street this week as the cryptocurrency hit a new all-time high above $72,000 per coin. While many investors are thrilled, some investors are cautious due to the extremely volatile nature of the asset. Mizuho Americas Senior Financial Technology Analyst Dan Dolev and Matt Ballensweig, BitGo Managing Director and Head of Go Network, joins Yahoo Finance to discuss how investors can take advantage of the recent bitcoin rally. Dolev actually starts by warning investors to stay away from crypto investing: \"Let\\'s talk about Coinbase (COIN) specifically, they are a take-rate business. And take rates are always bound to be a race to the bottom. And eventually, there\\'s going to be more competition and they are already getting out pricing concessions. In January, they gave out a pricing concession for people who are trading 500,000 or above. So pricing pressure is starting and competition is heating up. So the fact that I don\\'t believe in the underlying currency — bitcoin — that\\'s one thing, but irrespective of that, I think Coinbase is that minus take-rate pressure and competition.\" Ballensweig explains his bullish stance on the digital asset: \"Institutions are starting to pile in through the nine new bitcoin ETFs. And the flows really don\\'t lie here, there is demand for BTC as an asset. BlackRock through the IBIT ETF (IBIT) did $2 billion in volume yesterday. In total, the ETFs now hold over $55 billion in just their first 60 days of trading. So the flows really don\\'t lie here.\" For more expert insight and the latest market action, click here to watch this full episode of Yahoo Finance Live. Editor\\'s note: This article was written by Nicholas Jacobino BRIAN SOZZI: The closing bell is fast approaching on Wall Street. But first, we\\'re looking at how to navigate the big picture with the Yahoo Finance Playbook. [MUSIC PLAYING] As Bitcoin hits another all-time high, how much further the asset can climb is a hot investor debate. For a look at how to play it, we\\'re joined by Dan Dolev, Mizuho Americas senior']}"
      ]
     },
     "execution_count": 19,
     "metadata": {},
     "output_type": "execute_result"
    }
   ],
   "source": [
    "\n",
    "articles = {ticker:scrape_and_process(cleaned_urls[ticker]) for ticker in monitored_tickers}\n",
    "articles\n"
   ]
  },
  {
   "cell_type": "code",
   "execution_count": 20,
   "metadata": {},
   "outputs": [
    {
     "data": {
      "text/plain": [
       "\"The stock market is soaring yet again. But this time, Tesla (NASDAQ: TSLA) is not leading the charge. In fact, the market is up in spite of the electric vehicle (EV) leader. Tesla shares have fallen a whopping 34% year to date (YTD) as of this writing, while the Nasdaq-100 continues to rise. The stock is now off 60% from all-time highs, while the broad market is close to all-time highs. We are at another crossroads with Tesla stock. Bulls will argue this is a perfect buying opportunity as the company prepares for its next leg of growth. Bears will argue the company is finally heading toward a normal valuation that a manufacturing-based business deserves to trade at. Which group is right? Where will Tesla stock be in three years? Tesla continued to grow its unit volumes in 2023. It delivered 1.8 million cars to customers around the globe, up from 1.3 million in 2022 and 936,000 in 2021. This is impressive growth at scale, making Tesla one of the premier manufacturers of not just EVs, but cars in general. For reference, the largest automaker in the world is Toyota, which produces just over 10 million cars every year. But to get this unit growth, Tesla has had to lower its prices. Its main products have evolved to the cheaper Model 3 and Y products, which go for less than its older X and S models. On top of this, Tesla has chosen -- or perhaps been forced -- to lower prices on the Model 3 and Y to grow unit volumes. We can see this dynamic in the price of used Teslas, which have collapsed by half from a relative peak in early 2022. Lower prices have translated to slowing revenue growth and lower margins. In 2023, Tesla's revenue grew by 19% to $97 billion, but slowed down to just 3% growth in the fourth quarter. Gross margins slipped from 25.6% in 2022 to 18.2% in 2023, with operating income falling 35% for the year. Margins are deteriorating as Tesla goes for a greater global scale. In order to\""
      ]
     },
     "execution_count": 20,
     "metadata": {},
     "output_type": "execute_result"
    }
   ],
   "source": [
    "articles['TSLA'][4]"
   ]
  },
  {
   "cell_type": "code",
   "execution_count": 21,
   "metadata": {},
   "outputs": [],
   "source": [
    "def summarize(articles):\n",
    "    summaries = []\n",
    "    for article in articles:\n",
    "        input_ids = tokenizer.encode(article, return_tensors='pt')\n",
    "        output = model.generate(input_ids, max_length=55, num_beams=5, early_stopping=True)\n",
    "        summary = tokenizer.decode(output[0], skip_special_tokens=True)\n",
    "        summaries.append(summary)\n",
    "    return summaries"
   ]
  },
  {
   "cell_type": "code",
   "execution_count": 22,
   "metadata": {},
   "outputs": [
    {
     "data": {
      "text/plain": [
       "{'GME': ['Two analysts have increased their earnings estimates for the current year. The stock is currently a Rank #1 in the industry',\n",
       "  'Rating upgrade primarily reflects upward trend in earnings estimates.',\n",
       "  'Revenue falls 9.1% year-on-year, while non-commerce sales rise.',\n",
       "  'SG&A expenses reduced to 27.5% of net sales, down from 32.7% in Q3 2022.',\n",
       "  'Check out our latest analysis for GameStop What is GME undervalued?',\n",
       "  'Three gaming stocks to sell in February while you still can.',\n",
       "  'GF Value Line suggests that the stock is significantly undervalued.',\n",
       "  'Higher inflationary pressures on consumers’ spending have weighed on the company. Soft sales weighed on the company’s results',\n",
       "  'Relative Strength Index (RSI) reading for GME is 29.62.',\n",
       "  'Your information may be shared with third parties.',\n",
       "  'Retail - Consumer Electronics industry is seeing solid earnings estimate revision activity.'],\n",
       " 'TSLA': ['Shipments in the world’s largest EV market fall 19% from a year ago. Tesla cuts prices for Model 3 and Model Y in China',\n",
       "  'Tesla to raise Model Y price by $1,000 on April 1.',\n",
       "  'Tesla has been the worst-performing stock in the S&P 500 on a year-to-date basis.',\n",
       "  'Shares of the electric-car maker are up more than 50% this year.',\n",
       "  'Lower prices on Model 3 and Y products have translated to slower revenue growth.',\n",
       "  'Nvidia, Tesla fall after Wells Fargo downgrades. DollarTree to close nearly 1,000 stores, take charge of $1 billion',\n",
       "  'EV maker cuts price target, cites near-term challenges. PepsiCo shares on the rise after Morgan Stanley upgrades to Overweight',\n",
       "  'Gerber Kawasaki Wealth & Investment Management is a long-time Tesla investor.',\n",
       "  'Energy infrastructure giant Enbridge has a market cap of $103 billion. Could Enbridge stock be worth more than Tesla by 2026?',\n",
       "  'Shares of electric-vehicle maker fall 4.5% after Wells Fargo’s Langan forecast. Musk has said the company can’t keep up with demand',\n",
       "  'Your information may be shared with third parties.'],\n",
       " 'BTC': ['MicroStrategy Executive Chairman Michael Saylor says the cryptocurrency is the winner.',\n",
       "  'Standard Chartered, Fundstrat, VanEck all have targets. Some on Wall Street say it’s difficult to estimate future price',\n",
       "  'MicroStrategy’s position is up nearly 100%, creating $6.2 billion. Bitcoin supply is growing but at a decreasing rate',\n",
       "  \"On this week's show, we looked at how crypto-adjacent stocks have reacted to the rally.\",\n",
       "  'Biggest gainers and losers on the show this week are listed.',\n",
       "  'Pantera Capital Portfolio Manager and Crypto Asset Manager Cosmo Jiang.',\n",
       "  'Bitcoin briefly hits record high as China iPhone sales slump.',\n",
       "  'Halvings occur every four years after 210,000 blocks are created',\n",
       "  'Stitch Fix posts wider-than-expected loss; AT&T upgrades to Outperform.',\n",
       "  'Your information may be shared with third parties.',\n",
       "  \"Mizuho's Dolev warns investors to stay away from crypto investing.\"]}"
      ]
     },
     "execution_count": 22,
     "metadata": {},
     "output_type": "execute_result"
    }
   ],
   "source": [
    "\n",
    "summaries = {ticker:summarize(articles[ticker]) for ticker in monitored_tickers}\n",
    "summaries"
   ]
  },
  {
   "cell_type": "code",
   "execution_count": 23,
   "metadata": {},
   "outputs": [
    {
     "data": {
      "text/plain": [
       "['MicroStrategy Executive Chairman Michael Saylor says the cryptocurrency is the winner.',\n",
       " 'Standard Chartered, Fundstrat, VanEck all have targets. Some on Wall Street say it’s difficult to estimate future price',\n",
       " 'MicroStrategy’s position is up nearly 100%, creating $6.2 billion. Bitcoin supply is growing but at a decreasing rate',\n",
       " \"On this week's show, we looked at how crypto-adjacent stocks have reacted to the rally.\",\n",
       " 'Biggest gainers and losers on the show this week are listed.',\n",
       " 'Pantera Capital Portfolio Manager and Crypto Asset Manager Cosmo Jiang.',\n",
       " 'Bitcoin briefly hits record high as China iPhone sales slump.',\n",
       " 'Halvings occur every four years after 210,000 blocks are created',\n",
       " 'Stitch Fix posts wider-than-expected loss; AT&T upgrades to Outperform.',\n",
       " 'Your information may be shared with third parties.',\n",
       " \"Mizuho's Dolev warns investors to stay away from crypto investing.\"]"
      ]
     },
     "execution_count": 23,
     "metadata": {},
     "output_type": "execute_result"
    }
   ],
   "source": [
    "summaries['BTC']\n"
   ]
  },
  {
   "cell_type": "code",
   "execution_count": 24,
   "metadata": {},
   "outputs": [
    {
     "name": "stderr",
     "output_type": "stream",
     "text": [
      "No model was supplied, defaulted to distilbert-base-uncased-finetuned-sst-2-english and revision af0f99b (https://huggingface.co/distilbert-base-uncased-finetuned-sst-2-english).\n",
      "Using a pipeline without specifying a model name and revision in production is not recommended.\n"
     ]
    }
   ],
   "source": [
    "\n",
    "from transformers import pipeline\n",
    "sentiment = pipeline('sentiment-analysis')"
   ]
  },
  {
   "cell_type": "code",
   "execution_count": 25,
   "metadata": {},
   "outputs": [
    {
     "data": {
      "text/plain": [
       "[{'label': 'POSITIVE', 'score': 0.9994248151779175},\n",
       " {'label': 'NEGATIVE', 'score': 0.9989762306213379},\n",
       " {'label': 'POSITIVE', 'score': 0.6712822914123535},\n",
       " {'label': 'NEGATIVE', 'score': 0.9847748875617981},\n",
       " {'label': 'NEGATIVE', 'score': 0.9909721612930298},\n",
       " {'label': 'POSITIVE', 'score': 0.5877715349197388},\n",
       " {'label': 'NEGATIVE', 'score': 0.9884768724441528},\n",
       " {'label': 'NEGATIVE', 'score': 0.9876707792282104},\n",
       " {'label': 'NEGATIVE', 'score': 0.9920054078102112},\n",
       " {'label': 'NEGATIVE', 'score': 0.9903545379638672},\n",
       " {'label': 'NEGATIVE', 'score': 0.9644929766654968}]"
      ]
     },
     "execution_count": 25,
     "metadata": {},
     "output_type": "execute_result"
    }
   ],
   "source": [
    "\n",
    "sentiment(summaries['BTC'])"
   ]
  },
  {
   "cell_type": "code",
   "execution_count": 26,
   "metadata": {},
   "outputs": [
    {
     "data": {
      "text/plain": [
       "{'GME': [{'label': 'POSITIVE', 'score': 0.9938066005706787},\n",
       "  {'label': 'POSITIVE', 'score': 0.7805719971656799},\n",
       "  {'label': 'NEGATIVE', 'score': 0.9731772541999817},\n",
       "  {'label': 'NEGATIVE', 'score': 0.9990413784980774},\n",
       "  {'label': 'NEGATIVE', 'score': 0.9908208250999451},\n",
       "  {'label': 'POSITIVE', 'score': 0.8924435377120972},\n",
       "  {'label': 'NEGATIVE', 'score': 0.9977561831474304},\n",
       "  {'label': 'NEGATIVE', 'score': 0.9859585165977478},\n",
       "  {'label': 'NEGATIVE', 'score': 0.8664731383323669},\n",
       "  {'label': 'NEGATIVE', 'score': 0.9903545379638672},\n",
       "  {'label': 'POSITIVE', 'score': 0.9991598129272461}],\n",
       " 'TSLA': [{'label': 'NEGATIVE', 'score': 0.9983276724815369},\n",
       "  {'label': 'POSITIVE', 'score': 0.6840000152587891},\n",
       "  {'label': 'NEGATIVE', 'score': 0.9997729659080505},\n",
       "  {'label': 'POSITIVE', 'score': 0.9960147142410278},\n",
       "  {'label': 'NEGATIVE', 'score': 0.9997296929359436},\n",
       "  {'label': 'NEGATIVE', 'score': 0.998216450214386},\n",
       "  {'label': 'NEGATIVE', 'score': 0.9773924946784973},\n",
       "  {'label': 'POSITIVE', 'score': 0.9955580830574036},\n",
       "  {'label': 'NEGATIVE', 'score': 0.9865933060646057},\n",
       "  {'label': 'NEGATIVE', 'score': 0.9996494054794312},\n",
       "  {'label': 'NEGATIVE', 'score': 0.9903545379638672}],\n",
       " 'BTC': [{'label': 'POSITIVE', 'score': 0.9994248151779175},\n",
       "  {'label': 'NEGATIVE', 'score': 0.9989762306213379},\n",
       "  {'label': 'POSITIVE', 'score': 0.6712822914123535},\n",
       "  {'label': 'NEGATIVE', 'score': 0.9847748875617981},\n",
       "  {'label': 'NEGATIVE', 'score': 0.9909721612930298},\n",
       "  {'label': 'POSITIVE', 'score': 0.5877715349197388},\n",
       "  {'label': 'NEGATIVE', 'score': 0.9884768724441528},\n",
       "  {'label': 'NEGATIVE', 'score': 0.9876707792282104},\n",
       "  {'label': 'NEGATIVE', 'score': 0.9920054078102112},\n",
       "  {'label': 'NEGATIVE', 'score': 0.9903545379638672},\n",
       "  {'label': 'NEGATIVE', 'score': 0.9644929766654968}]}"
      ]
     },
     "execution_count": 26,
     "metadata": {},
     "output_type": "execute_result"
    }
   ],
   "source": [
    "scores = {ticker:sentiment(summaries[ticker]) for ticker in monitored_tickers}\n",
    "scores"
   ]
  },
  {
   "cell_type": "code",
   "execution_count": 27,
   "metadata": {},
   "outputs": [
    {
     "name": "stdout",
     "output_type": "stream",
     "text": [
      "SG&A expenses reduced to 27.5% of net sales, down from 32.7% in Q3 2022. NEGATIVE 0.9990413784980774\n"
     ]
    }
   ],
   "source": [
    "\n",
    "print(summaries['GME'][3], scores['GME'][3]['label'], scores['GME'][3]['score'])"
   ]
  },
  {
   "cell_type": "code",
   "execution_count": 28,
   "metadata": {},
   "outputs": [
    {
     "data": {
      "text/plain": [
       "0.9994248151779175"
      ]
     },
     "execution_count": 28,
     "metadata": {},
     "output_type": "execute_result"
    }
   ],
   "source": [
    "\n",
    "scores['BTC'][0]['score']"
   ]
  },
  {
   "cell_type": "code",
   "execution_count": 29,
   "metadata": {},
   "outputs": [
    {
     "data": {
      "text/plain": [
       "{'GME': ['Two analysts have increased their earnings estimates for the current year. The stock is currently a Rank #1 in the industry',\n",
       "  'Rating upgrade primarily reflects upward trend in earnings estimates.',\n",
       "  'Revenue falls 9.1% year-on-year, while non-commerce sales rise.',\n",
       "  'SG&A expenses reduced to 27.5% of net sales, down from 32.7% in Q3 2022.',\n",
       "  'Check out our latest analysis for GameStop What is GME undervalued?',\n",
       "  'Three gaming stocks to sell in February while you still can.',\n",
       "  'GF Value Line suggests that the stock is significantly undervalued.',\n",
       "  'Higher inflationary pressures on consumers’ spending have weighed on the company. Soft sales weighed on the company’s results',\n",
       "  'Relative Strength Index (RSI) reading for GME is 29.62.',\n",
       "  'Your information may be shared with third parties.',\n",
       "  'Retail - Consumer Electronics industry is seeing solid earnings estimate revision activity.'],\n",
       " 'TSLA': ['Shipments in the world’s largest EV market fall 19% from a year ago. Tesla cuts prices for Model 3 and Model Y in China',\n",
       "  'Tesla to raise Model Y price by $1,000 on April 1.',\n",
       "  'Tesla has been the worst-performing stock in the S&P 500 on a year-to-date basis.',\n",
       "  'Shares of the electric-car maker are up more than 50% this year.',\n",
       "  'Lower prices on Model 3 and Y products have translated to slower revenue growth.',\n",
       "  'Nvidia, Tesla fall after Wells Fargo downgrades. DollarTree to close nearly 1,000 stores, take charge of $1 billion',\n",
       "  'EV maker cuts price target, cites near-term challenges. PepsiCo shares on the rise after Morgan Stanley upgrades to Overweight',\n",
       "  'Gerber Kawasaki Wealth & Investment Management is a long-time Tesla investor.',\n",
       "  'Energy infrastructure giant Enbridge has a market cap of $103 billion. Could Enbridge stock be worth more than Tesla by 2026?',\n",
       "  'Shares of electric-vehicle maker fall 4.5% after Wells Fargo’s Langan forecast. Musk has said the company can’t keep up with demand',\n",
       "  'Your information may be shared with third parties.'],\n",
       " 'BTC': ['MicroStrategy Executive Chairman Michael Saylor says the cryptocurrency is the winner.',\n",
       "  'Standard Chartered, Fundstrat, VanEck all have targets. Some on Wall Street say it’s difficult to estimate future price',\n",
       "  'MicroStrategy’s position is up nearly 100%, creating $6.2 billion. Bitcoin supply is growing but at a decreasing rate',\n",
       "  \"On this week's show, we looked at how crypto-adjacent stocks have reacted to the rally.\",\n",
       "  'Biggest gainers and losers on the show this week are listed.',\n",
       "  'Pantera Capital Portfolio Manager and Crypto Asset Manager Cosmo Jiang.',\n",
       "  'Bitcoin briefly hits record high as China iPhone sales slump.',\n",
       "  'Halvings occur every four years after 210,000 blocks are created',\n",
       "  'Stitch Fix posts wider-than-expected loss; AT&T upgrades to Outperform.',\n",
       "  'Your information may be shared with third parties.',\n",
       "  \"Mizuho's Dolev warns investors to stay away from crypto investing.\"]}"
      ]
     },
     "execution_count": 29,
     "metadata": {},
     "output_type": "execute_result"
    }
   ],
   "source": [
    "\n",
    "summaries"
   ]
  },
  {
   "cell_type": "code",
   "execution_count": 30,
   "metadata": {},
   "outputs": [
    {
     "data": {
      "text/plain": [
       "{'GME': [{'label': 'POSITIVE', 'score': 0.9938066005706787},\n",
       "  {'label': 'POSITIVE', 'score': 0.7805719971656799},\n",
       "  {'label': 'NEGATIVE', 'score': 0.9731772541999817},\n",
       "  {'label': 'NEGATIVE', 'score': 0.9990413784980774},\n",
       "  {'label': 'NEGATIVE', 'score': 0.9908208250999451},\n",
       "  {'label': 'POSITIVE', 'score': 0.8924435377120972},\n",
       "  {'label': 'NEGATIVE', 'score': 0.9977561831474304},\n",
       "  {'label': 'NEGATIVE', 'score': 0.9859585165977478},\n",
       "  {'label': 'NEGATIVE', 'score': 0.8664731383323669},\n",
       "  {'label': 'NEGATIVE', 'score': 0.9903545379638672},\n",
       "  {'label': 'POSITIVE', 'score': 0.9991598129272461}],\n",
       " 'TSLA': [{'label': 'NEGATIVE', 'score': 0.9983276724815369},\n",
       "  {'label': 'POSITIVE', 'score': 0.6840000152587891},\n",
       "  {'label': 'NEGATIVE', 'score': 0.9997729659080505},\n",
       "  {'label': 'POSITIVE', 'score': 0.9960147142410278},\n",
       "  {'label': 'NEGATIVE', 'score': 0.9997296929359436},\n",
       "  {'label': 'NEGATIVE', 'score': 0.998216450214386},\n",
       "  {'label': 'NEGATIVE', 'score': 0.9773924946784973},\n",
       "  {'label': 'POSITIVE', 'score': 0.9955580830574036},\n",
       "  {'label': 'NEGATIVE', 'score': 0.9865933060646057},\n",
       "  {'label': 'NEGATIVE', 'score': 0.9996494054794312},\n",
       "  {'label': 'NEGATIVE', 'score': 0.9903545379638672}],\n",
       " 'BTC': [{'label': 'POSITIVE', 'score': 0.9994248151779175},\n",
       "  {'label': 'NEGATIVE', 'score': 0.9989762306213379},\n",
       "  {'label': 'POSITIVE', 'score': 0.6712822914123535},\n",
       "  {'label': 'NEGATIVE', 'score': 0.9847748875617981},\n",
       "  {'label': 'NEGATIVE', 'score': 0.9909721612930298},\n",
       "  {'label': 'POSITIVE', 'score': 0.5877715349197388},\n",
       "  {'label': 'NEGATIVE', 'score': 0.9884768724441528},\n",
       "  {'label': 'NEGATIVE', 'score': 0.9876707792282104},\n",
       "  {'label': 'NEGATIVE', 'score': 0.9920054078102112},\n",
       "  {'label': 'NEGATIVE', 'score': 0.9903545379638672},\n",
       "  {'label': 'NEGATIVE', 'score': 0.9644929766654968}]}"
      ]
     },
     "execution_count": 30,
     "metadata": {},
     "output_type": "execute_result"
    }
   ],
   "source": [
    "scores"
   ]
  },
  {
   "cell_type": "code",
   "execution_count": 31,
   "metadata": {},
   "outputs": [
    {
     "data": {
      "text/plain": [
       "{'GME': ['https://finance.yahoo.com/news/bull-day-gamestop-gme-120000551.html',\n",
       "  'https://finance.yahoo.com/news/gamestop-gme-upgraded-strong-buy-170006515.html',\n",
       "  'https://finance.yahoo.com/news/gamestop-nyse-gme-misses-q3-211648468.html',\n",
       "  'https://finance.yahoo.com/news/gamestop-corp-gme-reports-narrowed-224622965.html',\n",
       "  'https://finance.yahoo.com/news/unveiling-gamestop-gme-value-really-155119864.html',\n",
       "  'https://finance.yahoo.com/news/3-sorry-gaming-stocks-sell-171540757.html',\n",
       "  'https://finance.yahoo.com/news/gamestop-gme-true-worth-really-163851598.html',\n",
       "  'https://finance.yahoo.com/news/gamestop-gme-posts-breakeven-earnings-202700458.html',\n",
       "  'https://finance.yahoo.com/news/down-19-41-4-weeks-133506409.html',\n",
       "  'https://www.google.com/search?q%3Dyahoo%2Bfinance%2BGME%26tbm%3Dnws%26pccc%3D1',\n",
       "  'https://finance.yahoo.com/news/gamestop-gme-strong-industry-solid-134000154.html'],\n",
       " 'TSLA': ['https://finance.yahoo.com/news/tesla-stock-tumbles-7-as-shipments-slump-new-price-cuts-announced-in-china-210846757.html',\n",
       "  'https://finance.yahoo.com/video/tesla-ceo-elon-musk-teases-144750471.html',\n",
       "  'https://finance.yahoo.com/news/amazon-vs-tesla-stock-better-160057955.html',\n",
       "  'https://finance.yahoo.com/news/great-news-tesla-stock-investors-205603973.html',\n",
       "  'https://finance.yahoo.com/news/where-tesla-stock-3-years-121600991.html',\n",
       "  'https://finance.yahoo.com/news/live/stock-market-today-nvidia-tesla-drag-tech-stocks-lower-as-sp-500-pulls-back-from-record-200209612.html',\n",
       "  'https://finance.yahoo.com/video/tesla-pepsico-hashicorp-trending-tickers-150049826.html',\n",
       "  'https://finance.yahoo.com/video/tesla-ceo-elon-musk-hurting-165507347.html',\n",
       "  'https://ca.finance.yahoo.com/news/enbridge-stock-worth-more-tesla-133000196.html',\n",
       "  'https://finance.yahoo.com/news/tesla-growth-company-no-growth-130559327.html',\n",
       "  'https://www.google.com/search?q%3Dyahoo%2Bfinance%2BTSLA%26tbm%3Dnws%26pccc%3D1'],\n",
       " 'BTC': ['https://finance.yahoo.com/video/bitcoin-best-investment-asset-michael-204653205.html',\n",
       "  'https://finance.yahoo.com/news/bitcoin-to-350000-bulls-say-the-current-rally-is-just-the-beginning-184753964.html',\n",
       "  'https://finance.yahoo.com/news/does-microstrategy-now-own-1-140012540.html',\n",
       "  'https://finance.yahoo.com/video/bitcoin-spikes-above-70k-record-160821093.html',\n",
       "  'https://finance.yahoo.com/video/bitcoin-sinks-stocks-wrap-busy-113024393.html',\n",
       "  'https://finance.yahoo.com/video/bitcoins-rally-proof-very-sustainable-152804371.html',\n",
       "  'https://finance.yahoo.com/news/stock-market-today-nasdaq-leads-stock-slide-bitcoin-tumbles-after-new-record-210041125.html',\n",
       "  'https://finance.yahoo.com/news/bitcoin-halving-change-crypto-again-194631760.html',\n",
       "  'https://finance.yahoo.com/video/bitcoins-high-stitch-fix-t-153622090.html',\n",
       "  'https://www.google.com/search?q%3Dyahoo%2Bfinance%2BBTC%26tbm%3Dnws%26pccc%3D1',\n",
       "  'https://finance.yahoo.com/video/bitcoin-rally-investors-buy-reinvigorated-213231008.html']}"
      ]
     },
     "execution_count": 31,
     "metadata": {},
     "output_type": "execute_result"
    }
   ],
   "source": [
    "cleaned_urls"
   ]
  },
  {
   "cell_type": "code",
   "execution_count": 32,
   "metadata": {},
   "outputs": [
    {
     "data": {
      "text/plain": [
       "range(0, 11)"
      ]
     },
     "execution_count": 32,
     "metadata": {},
     "output_type": "execute_result"
    }
   ],
   "source": [
    "range(len(summaries['GME']))"
   ]
  },
  {
   "cell_type": "code",
   "execution_count": 33,
   "metadata": {},
   "outputs": [
    {
     "data": {
      "text/plain": [
       "'Relative Strength Index (RSI) reading for GME is 29.62.'"
      ]
     },
     "execution_count": 33,
     "metadata": {},
     "output_type": "execute_result"
    }
   ],
   "source": [
    "summaries['GME'][8]"
   ]
  },
  {
   "cell_type": "code",
   "execution_count": 34,
   "metadata": {},
   "outputs": [],
   "source": [
    "def create_output_array(summaries, scores, urls):\n",
    "    output = []\n",
    "    for ticker in monitored_tickers:\n",
    "        for counter in range(len(summaries[ticker])):\n",
    "            output_this = [\n",
    "                ticker,\n",
    "                summaries[ticker][counter],\n",
    "                scores[ticker][counter]['label'],\n",
    "                scores[ticker][counter]['score'],\n",
    "                urls[ticker][counter]\n",
    "            ]\n",
    "            output.append(output_this)\n",
    "    return output"
   ]
  },
  {
   "cell_type": "code",
   "execution_count": 35,
   "metadata": {},
   "outputs": [
    {
     "data": {
      "text/plain": [
       "[['GME',\n",
       "  'Two analysts have increased their earnings estimates for the current year. The stock is currently a Rank #1 in the industry',\n",
       "  'POSITIVE',\n",
       "  0.9938066005706787,\n",
       "  'https://finance.yahoo.com/news/bull-day-gamestop-gme-120000551.html'],\n",
       " ['GME',\n",
       "  'Rating upgrade primarily reflects upward trend in earnings estimates.',\n",
       "  'POSITIVE',\n",
       "  0.7805719971656799,\n",
       "  'https://finance.yahoo.com/news/gamestop-gme-upgraded-strong-buy-170006515.html'],\n",
       " ['GME',\n",
       "  'Revenue falls 9.1% year-on-year, while non-commerce sales rise.',\n",
       "  'NEGATIVE',\n",
       "  0.9731772541999817,\n",
       "  'https://finance.yahoo.com/news/gamestop-nyse-gme-misses-q3-211648468.html'],\n",
       " ['GME',\n",
       "  'SG&A expenses reduced to 27.5% of net sales, down from 32.7% in Q3 2022.',\n",
       "  'NEGATIVE',\n",
       "  0.9990413784980774,\n",
       "  'https://finance.yahoo.com/news/gamestop-corp-gme-reports-narrowed-224622965.html'],\n",
       " ['GME',\n",
       "  'Check out our latest analysis for GameStop What is GME undervalued?',\n",
       "  'NEGATIVE',\n",
       "  0.9908208250999451,\n",
       "  'https://finance.yahoo.com/news/unveiling-gamestop-gme-value-really-155119864.html'],\n",
       " ['GME',\n",
       "  'Three gaming stocks to sell in February while you still can.',\n",
       "  'POSITIVE',\n",
       "  0.8924435377120972,\n",
       "  'https://finance.yahoo.com/news/3-sorry-gaming-stocks-sell-171540757.html'],\n",
       " ['GME',\n",
       "  'GF Value Line suggests that the stock is significantly undervalued.',\n",
       "  'NEGATIVE',\n",
       "  0.9977561831474304,\n",
       "  'https://finance.yahoo.com/news/gamestop-gme-true-worth-really-163851598.html'],\n",
       " ['GME',\n",
       "  'Higher inflationary pressures on consumers’ spending have weighed on the company. Soft sales weighed on the company’s results',\n",
       "  'NEGATIVE',\n",
       "  0.9859585165977478,\n",
       "  'https://finance.yahoo.com/news/gamestop-gme-posts-breakeven-earnings-202700458.html'],\n",
       " ['GME',\n",
       "  'Relative Strength Index (RSI) reading for GME is 29.62.',\n",
       "  'NEGATIVE',\n",
       "  0.8664731383323669,\n",
       "  'https://finance.yahoo.com/news/down-19-41-4-weeks-133506409.html'],\n",
       " ['GME',\n",
       "  'Your information may be shared with third parties.',\n",
       "  'NEGATIVE',\n",
       "  0.9903545379638672,\n",
       "  'https://www.google.com/search?q%3Dyahoo%2Bfinance%2BGME%26tbm%3Dnws%26pccc%3D1'],\n",
       " ['GME',\n",
       "  'Retail - Consumer Electronics industry is seeing solid earnings estimate revision activity.',\n",
       "  'POSITIVE',\n",
       "  0.9991598129272461,\n",
       "  'https://finance.yahoo.com/news/gamestop-gme-strong-industry-solid-134000154.html'],\n",
       " ['TSLA',\n",
       "  'Shipments in the world’s largest EV market fall 19% from a year ago. Tesla cuts prices for Model 3 and Model Y in China',\n",
       "  'NEGATIVE',\n",
       "  0.9983276724815369,\n",
       "  'https://finance.yahoo.com/news/tesla-stock-tumbles-7-as-shipments-slump-new-price-cuts-announced-in-china-210846757.html'],\n",
       " ['TSLA',\n",
       "  'Tesla to raise Model Y price by $1,000 on April 1.',\n",
       "  'POSITIVE',\n",
       "  0.6840000152587891,\n",
       "  'https://finance.yahoo.com/video/tesla-ceo-elon-musk-teases-144750471.html'],\n",
       " ['TSLA',\n",
       "  'Tesla has been the worst-performing stock in the S&P 500 on a year-to-date basis.',\n",
       "  'NEGATIVE',\n",
       "  0.9997729659080505,\n",
       "  'https://finance.yahoo.com/news/amazon-vs-tesla-stock-better-160057955.html'],\n",
       " ['TSLA',\n",
       "  'Shares of the electric-car maker are up more than 50% this year.',\n",
       "  'POSITIVE',\n",
       "  0.9960147142410278,\n",
       "  'https://finance.yahoo.com/news/great-news-tesla-stock-investors-205603973.html'],\n",
       " ['TSLA',\n",
       "  'Lower prices on Model 3 and Y products have translated to slower revenue growth.',\n",
       "  'NEGATIVE',\n",
       "  0.9997296929359436,\n",
       "  'https://finance.yahoo.com/news/where-tesla-stock-3-years-121600991.html'],\n",
       " ['TSLA',\n",
       "  'Nvidia, Tesla fall after Wells Fargo downgrades. DollarTree to close nearly 1,000 stores, take charge of $1 billion',\n",
       "  'NEGATIVE',\n",
       "  0.998216450214386,\n",
       "  'https://finance.yahoo.com/news/live/stock-market-today-nvidia-tesla-drag-tech-stocks-lower-as-sp-500-pulls-back-from-record-200209612.html'],\n",
       " ['TSLA',\n",
       "  'EV maker cuts price target, cites near-term challenges. PepsiCo shares on the rise after Morgan Stanley upgrades to Overweight',\n",
       "  'NEGATIVE',\n",
       "  0.9773924946784973,\n",
       "  'https://finance.yahoo.com/video/tesla-pepsico-hashicorp-trending-tickers-150049826.html'],\n",
       " ['TSLA',\n",
       "  'Gerber Kawasaki Wealth & Investment Management is a long-time Tesla investor.',\n",
       "  'POSITIVE',\n",
       "  0.9955580830574036,\n",
       "  'https://finance.yahoo.com/video/tesla-ceo-elon-musk-hurting-165507347.html'],\n",
       " ['TSLA',\n",
       "  'Energy infrastructure giant Enbridge has a market cap of $103 billion. Could Enbridge stock be worth more than Tesla by 2026?',\n",
       "  'NEGATIVE',\n",
       "  0.9865933060646057,\n",
       "  'https://ca.finance.yahoo.com/news/enbridge-stock-worth-more-tesla-133000196.html'],\n",
       " ['TSLA',\n",
       "  'Shares of electric-vehicle maker fall 4.5% after Wells Fargo’s Langan forecast. Musk has said the company can’t keep up with demand',\n",
       "  'NEGATIVE',\n",
       "  0.9996494054794312,\n",
       "  'https://finance.yahoo.com/news/tesla-growth-company-no-growth-130559327.html'],\n",
       " ['TSLA',\n",
       "  'Your information may be shared with third parties.',\n",
       "  'NEGATIVE',\n",
       "  0.9903545379638672,\n",
       "  'https://www.google.com/search?q%3Dyahoo%2Bfinance%2BTSLA%26tbm%3Dnws%26pccc%3D1'],\n",
       " ['BTC',\n",
       "  'MicroStrategy Executive Chairman Michael Saylor says the cryptocurrency is the winner.',\n",
       "  'POSITIVE',\n",
       "  0.9994248151779175,\n",
       "  'https://finance.yahoo.com/video/bitcoin-best-investment-asset-michael-204653205.html'],\n",
       " ['BTC',\n",
       "  'Standard Chartered, Fundstrat, VanEck all have targets. Some on Wall Street say it’s difficult to estimate future price',\n",
       "  'NEGATIVE',\n",
       "  0.9989762306213379,\n",
       "  'https://finance.yahoo.com/news/bitcoin-to-350000-bulls-say-the-current-rally-is-just-the-beginning-184753964.html'],\n",
       " ['BTC',\n",
       "  'MicroStrategy’s position is up nearly 100%, creating $6.2 billion. Bitcoin supply is growing but at a decreasing rate',\n",
       "  'POSITIVE',\n",
       "  0.6712822914123535,\n",
       "  'https://finance.yahoo.com/news/does-microstrategy-now-own-1-140012540.html'],\n",
       " ['BTC',\n",
       "  \"On this week's show, we looked at how crypto-adjacent stocks have reacted to the rally.\",\n",
       "  'NEGATIVE',\n",
       "  0.9847748875617981,\n",
       "  'https://finance.yahoo.com/video/bitcoin-spikes-above-70k-record-160821093.html'],\n",
       " ['BTC',\n",
       "  'Biggest gainers and losers on the show this week are listed.',\n",
       "  'NEGATIVE',\n",
       "  0.9909721612930298,\n",
       "  'https://finance.yahoo.com/video/bitcoin-sinks-stocks-wrap-busy-113024393.html'],\n",
       " ['BTC',\n",
       "  'Pantera Capital Portfolio Manager and Crypto Asset Manager Cosmo Jiang.',\n",
       "  'POSITIVE',\n",
       "  0.5877715349197388,\n",
       "  'https://finance.yahoo.com/video/bitcoins-rally-proof-very-sustainable-152804371.html'],\n",
       " ['BTC',\n",
       "  'Bitcoin briefly hits record high as China iPhone sales slump.',\n",
       "  'NEGATIVE',\n",
       "  0.9884768724441528,\n",
       "  'https://finance.yahoo.com/news/stock-market-today-nasdaq-leads-stock-slide-bitcoin-tumbles-after-new-record-210041125.html'],\n",
       " ['BTC',\n",
       "  'Halvings occur every four years after 210,000 blocks are created',\n",
       "  'NEGATIVE',\n",
       "  0.9876707792282104,\n",
       "  'https://finance.yahoo.com/news/bitcoin-halving-change-crypto-again-194631760.html'],\n",
       " ['BTC',\n",
       "  'Stitch Fix posts wider-than-expected loss; AT&T upgrades to Outperform.',\n",
       "  'NEGATIVE',\n",
       "  0.9920054078102112,\n",
       "  'https://finance.yahoo.com/video/bitcoins-high-stitch-fix-t-153622090.html'],\n",
       " ['BTC',\n",
       "  'Your information may be shared with third parties.',\n",
       "  'NEGATIVE',\n",
       "  0.9903545379638672,\n",
       "  'https://www.google.com/search?q%3Dyahoo%2Bfinance%2BBTC%26tbm%3Dnws%26pccc%3D1'],\n",
       " ['BTC',\n",
       "  \"Mizuho's Dolev warns investors to stay away from crypto investing.\",\n",
       "  'NEGATIVE',\n",
       "  0.9644929766654968,\n",
       "  'https://finance.yahoo.com/video/bitcoin-rally-investors-buy-reinvigorated-213231008.html']]"
      ]
     },
     "execution_count": 35,
     "metadata": {},
     "output_type": "execute_result"
    }
   ],
   "source": [
    "final_output = create_output_array(summaries, scores, cleaned_urls)\n",
    "final_output"
   ]
  },
  {
   "cell_type": "code",
   "execution_count": 36,
   "metadata": {},
   "outputs": [],
   "source": [
    "import csv\n",
    "with open('assetsummaries.csv', mode='w', newline='') as f:\n",
    "    csv_writer = csv.writer(f, delimiter=',', quotechar='\"', quoting=csv.QUOTE_MINIMAL)\n",
    "    csv_writer.writerows(final_output)"
   ]
  }
 ],
 "metadata": {
  "kernelspec": {
   "display_name": "Python 3",
   "language": "python",
   "name": "python3"
  },
  "language_info": {
   "codemirror_mode": {
    "name": "ipython",
    "version": 3
   },
   "file_extension": ".py",
   "mimetype": "text/x-python",
   "name": "python",
   "nbconvert_exporter": "python",
   "pygments_lexer": "ipython3",
   "version": "3.10.0"
  }
 },
 "nbformat": 4,
 "nbformat_minor": 2
}
